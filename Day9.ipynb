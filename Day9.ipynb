{
 "cells": [
  {
   "cell_type": "markdown",
   "metadata": {},
   "source": [
    "#### Keras and Pytorch for the Fashion-MNIST classification"
   ]
  },
  {
   "cell_type": "code",
   "execution_count": 1,
   "metadata": {},
   "outputs": [
    {
     "name": "stderr",
     "output_type": "stream",
     "text": [
      "/home/karen/anaconda3/lib/python3.6/site-packages/h5py/__init__.py:36: FutureWarning: Conversion of the second argument of issubdtype from `float` to `np.floating` is deprecated. In future, it will be treated as `np.float64 == np.dtype(float).type`.\n",
      "  from ._conv import register_converters as _register_converters\n",
      "Using TensorFlow backend.\n"
     ]
    },
    {
     "name": "stdout",
     "output_type": "stream",
     "text": [
      "Train data shape: (60000, 28, 28)\n",
      "Label shape: (60000,)\n",
      "Test data shape: (10000, 28, 28)\n",
      "Label shape: (10000,)\n"
     ]
    }
   ],
   "source": [
    "from keras.models import Sequential\n",
    "from keras.layers import Conv2D, MaxPooling2D, Flatten, Dropout, Dense\n",
    "from keras.datasets import fashion_mnist\n",
    "import matplotlib.pyplot as plt\n",
    "from keras.utils import to_categorical\n",
    "%matplotlib inline\n",
    "\n",
    "\n",
    "(x_train,y_train),(x_test,y_test) = fashion_mnist.load_data()\n",
    "print(\"Train data shape: {}\\nLabel shape: {}\".format(x_train.shape,y_train.shape))\n",
    "print(\"Test data shape: {}\\nLabel shape: {}\".format(x_test.shape,y_test.shape))"
   ]
  },
  {
   "cell_type": "code",
   "execution_count": 2,
   "metadata": {},
   "outputs": [
    {
     "name": "stdout",
     "output_type": "stream",
     "text": [
      "[9 0 0 3 0 2 7 2 5 5]\n"
     ]
    }
   ],
   "source": [
    "print(y_train[:10])"
   ]
  },
  {
   "cell_type": "code",
   "execution_count": 3,
   "metadata": {},
   "outputs": [
    {
     "data": {
      "text/plain": [
       "<matplotlib.image.AxesImage at 0x7ff138cfa2b0>"
      ]
     },
     "execution_count": 3,
     "metadata": {},
     "output_type": "execute_result"
    },
    {
     "data": {
      "image/png": "[encoded data removed]",
      "text/plain": [
       "<Figure size 432x288 with 1 Axes>"
      ]
     },
     "metadata": {},
     "output_type": "display_data"
    }
   ],
   "source": [
    "plt.imshow(x_train[0], cmap=plt.cm.gray)"
   ]
  },
  {
   "cell_type": "markdown",
   "metadata": {},
   "source": [
    "#### Prepare dataset"
   ]
  },
  {
   "cell_type": "code",
   "execution_count": 4,
   "metadata": {},
   "outputs": [],
   "source": [
    "x_train = ((x_train.reshape(60000,28,28,1)).astype('float32'))/255\n",
    "x_test = ((x_test.reshape(10000,28,28,1)).astype('float32'))/255\n",
    "y_train = to_categorical(y_train)\n",
    "y_test = to_categorical(y_test)"
   ]
  },
  {
   "cell_type": "markdown",
   "metadata": {},
   "source": [
    "#### Data augmentation"
   ]
  },
  {
   "cell_type": "code",
   "execution_count": 5,
   "metadata": {},
   "outputs": [],
   "source": [
    "from keras.preprocessing.image import ImageDataGenerator\n",
    "\n",
    "datagen = ImageDataGenerator(\n",
    "        rotation_range = 20,\n",
    "        horizontal_flip = True)"
   ]
  },
  {
   "cell_type": "markdown",
   "metadata": {},
   "source": [
    "#### Create model"
   ]
  },
  {
   "cell_type": "code",
   "execution_count": 6,
   "metadata": {},
   "outputs": [
    {
     "name": "stdout",
     "output_type": "stream",
     "text": [
      "_________________________________________________________________\n",
      "Layer (type)                 Output Shape              Param #   \n",
      "=================================================================\n",
      "conv2d_1 (Conv2D)            (None, 26, 26, 32)        320       \n",
      "_________________________________________________________________\n",
      "conv2d_2 (Conv2D)            (None, 24, 24, 32)        9248      \n",
      "_________________________________________________________________\n",
      "max_pooling2d_1 (MaxPooling2 (None, 12, 12, 32)        0         \n",
      "_________________________________________________________________\n",
      "dropout_1 (Dropout)          (None, 12, 12, 32)        0         \n",
      "_________________________________________________________________\n",
      "conv2d_3 (Conv2D)            (None, 10, 10, 64)        18496     \n",
      "_________________________________________________________________\n",
      "conv2d_4 (Conv2D)            (None, 8, 8, 64)          36928     \n",
      "_________________________________________________________________\n",
      "max_pooling2d_2 (MaxPooling2 (None, 4, 4, 64)          0         \n",
      "_________________________________________________________________\n",
      "dropout_2 (Dropout)          (None, 4, 4, 64)          0         \n",
      "_________________________________________________________________\n",
      "conv2d_5 (Conv2D)            (None, 2, 2, 128)         73856     \n",
      "_________________________________________________________________\n",
      "max_pooling2d_3 (MaxPooling2 (None, 1, 1, 128)         0         \n",
      "_________________________________________________________________\n",
      "flatten_1 (Flatten)          (None, 128)               0         \n",
      "_________________________________________________________________\n",
      "dense_1 (Dense)              (None, 256)               33024     \n",
      "_________________________________________________________________\n",
      "dense_2 (Dense)              (None, 10)                2570      \n",
      "=================================================================\n",
      "Total params: 174,442\n",
      "Trainable params: 174,442\n",
      "Non-trainable params: 0\n",
      "_________________________________________________________________\n"
     ]
    }
   ],
   "source": [
    "model = Sequential()\n",
    "model.add(Conv2D(32, kernel_size=(3,3), activation='relu', input_shape=(28,28,1)))\n",
    "model.add(Conv2D(32, (3,3), activation='relu'))\n",
    "model.add(MaxPooling2D((2,2)))\n",
    "model.add(Dropout(0.25))\n",
    "\n",
    "model.add(Conv2D(64, (3,3), activation='relu'))\n",
    "model.add(Conv2D(64, (3,3), activation='relu'))\n",
    "model.add(MaxPooling2D((2,2)))\n",
    "model.add(Dropout(0.25))\n",
    "\n",
    "model.add(Conv2D(128, (3,3), activation='relu'))\n",
    "model.add(MaxPooling2D((2,2)))\n",
    "\n",
    "model.add(Flatten())\n",
    "model.add(Dense(256, activation='relu'))\n",
    "model.add(Dense(10, activation='softmax'))\n",
    "\n",
    "model.summary()"
   ]
  },
  {
   "cell_type": "markdown",
   "metadata": {},
   "source": [
    "#### Compile and Train"
   ]
  },
  {
   "cell_type": "code",
   "execution_count": 7,
   "metadata": {},
   "outputs": [
    {
     "name": "stdout",
     "output_type": "stream",
     "text": [
      "Epoch 1/20\n",
      "1875/1875 [==============================] - 10s 5ms/step - loss: 0.6491 - acc: 0.7538\n",
      "Epoch 2/20\n",
      "1875/1875 [==============================] - 8s 4ms/step - loss: 0.4410 - acc: 0.8356\n",
      "Epoch 3/20\n",
      "1875/1875 [==============================] - 8s 4ms/step - loss: 0.3800 - acc: 0.8602\n",
      "Epoch 4/20\n",
      "1875/1875 [==============================] - 8s 4ms/step - loss: 0.3490 - acc: 0.8713\n",
      "Epoch 5/20\n",
      "1875/1875 [==============================] - 8s 4ms/step - loss: 0.3305 - acc: 0.8780\n",
      "Epoch 6/20\n",
      "1875/1875 [==============================] - 8s 4ms/step - loss: 0.3177 - acc: 0.8833\n",
      "Epoch 7/20\n",
      "1875/1875 [==============================] - 8s 4ms/step - loss: 0.3058 - acc: 0.8886\n",
      "Epoch 8/20\n",
      "1875/1875 [==============================] - 8s 4ms/step - loss: 0.2947 - acc: 0.8914\n",
      "Epoch 9/20\n",
      "1875/1875 [==============================] - 8s 4ms/step - loss: 0.2892 - acc: 0.8937\n",
      "Epoch 10/20\n",
      "1875/1875 [==============================] - 8s 4ms/step - loss: 0.2846 - acc: 0.8948\n",
      "Epoch 11/20\n",
      "1875/1875 [==============================] - 8s 4ms/step - loss: 0.2819 - acc: 0.8958\n",
      "Epoch 12/20\n",
      "1875/1875 [==============================] - 8s 4ms/step - loss: 0.2736 - acc: 0.8987\n",
      "Epoch 13/20\n",
      "1875/1875 [==============================] - 8s 4ms/step - loss: 0.2723 - acc: 0.8976\n",
      "Epoch 14/20\n",
      "1875/1875 [==============================] - 8s 4ms/step - loss: 0.2676 - acc: 0.8998\n",
      "Epoch 15/20\n",
      "1875/1875 [==============================] - 8s 4ms/step - loss: 0.2639 - acc: 0.9019\n",
      "Epoch 16/20\n",
      "1875/1875 [==============================] - 8s 4ms/step - loss: 0.2633 - acc: 0.9026\n",
      "Epoch 17/20\n",
      "1875/1875 [==============================] - 8s 4ms/step - loss: 0.2605 - acc: 0.9032\n",
      "Epoch 18/20\n",
      "1875/1875 [==============================] - 8s 4ms/step - loss: 0.2585 - acc: 0.9038\n",
      "Epoch 19/20\n",
      "1875/1875 [==============================] - 8s 4ms/step - loss: 0.2574 - acc: 0.9048\n",
      "Epoch 20/20\n",
      "1875/1875 [==============================] - 10s 5ms/step - loss: 0.2561 - acc: 0.9055\n"
     ]
    },
    {
     "data": {
      "text/plain": [
       "<keras.callbacks.History at 0x7ff135472a58>"
      ]
     },
     "execution_count": 7,
     "metadata": {},
     "output_type": "execute_result"
    }
   ],
   "source": [
    "model.compile(optimizer='adam',\n",
    "             loss='categorical_crossentropy',\n",
    "             metrics=['accuracy'])\n",
    "\n",
    "#model.fit(x_train,y_train, batch_size=32,epochs=50)\n",
    "model.fit_generator(datagen.flow(x_train, y_train, batch_size=32),\n",
    "                    epochs = 20)"
   ]
  },
  {
   "cell_type": "code",
   "execution_count": 11,
   "metadata": {},
   "outputs": [
    {
     "name": "stdout",
     "output_type": "stream",
     "text": [
      "10000/10000 [==============================] - 0s 37us/step\n",
      "Test accuracy: 90.4%\n"
     ]
    }
   ],
   "source": [
    "test_loss, test_acc = model.evaluate(x_test,y_test)\n",
    "print(\"Test accuracy: {}%\".format(test_acc*100))"
   ]
  },
  {
   "cell_type": "markdown",
   "metadata": {},
   "source": [
    "#### Using pytorch with similar model"
   ]
  },
  {
   "cell_type": "code",
   "execution_count": 7,
   "metadata": {},
   "outputs": [
    {
     "name": "stdout",
     "output_type": "stream",
     "text": [
      "cuda:0\n"
     ]
    }
   ],
   "source": [
    "import torch \n",
    "import torch.nn as nn\n",
    "from torch.nn import Conv2d, ReLU, MaxPool2d, Dropout2d,Linear\n",
    "from torchvision.datasets import FashionMNIST\n",
    "from torch.autograd import Variable\n",
    "import torch.optim as optim\n",
    "from torchvision import transforms\n",
    "import torch.nn.functional as F\n",
    "from torch.utils.data import DataLoader\n",
    "\n",
    "device = torch.device('cuda: 0' if torch.cuda.is_available() else 'cpu')\n",
    "print(device)"
   ]
  },
  {
   "cell_type": "code",
   "execution_count": 8,
   "metadata": {},
   "outputs": [],
   "source": [
    "train_transform = transforms.Compose([transforms.RandomHorizontalFlip(),\n",
    "                                    #transforms.RandomRotation(20),\n",
    "                                    transforms.ToTensor(),\n",
    "                                    transforms.Normalize((0.1307,),(0.3081,))])\n",
    "\n",
    "test_transform = transforms.Compose([transforms.ToTensor(),\n",
    "                                   transforms.Normalize((0.1307,),(0.3081,))])\n",
    "\n",
    "#transforms.Normalize((0.5,0.5,0.5),(0.5,0.5,0.5))\n",
    "\n",
    "train_data = FashionMNIST('data/', train=True, transform=train_transform,download=True)\n",
    "test_data = FashionMNIST('data/', train=False, transform=test_transform,download=False)\n",
    "\n",
    "train_loader = DataLoader(train_data, batch_size=32, shuffle=True)\n",
    "test_loader = DataLoader(test_data, batch_size=32, shuffle=False)"
   ]
  },
  {
   "cell_type": "code",
   "execution_count": 10,
   "metadata": {},
   "outputs": [],
   "source": [
    "class Net(nn.Module):\n",
    "    def __init__(self):\n",
    "        super(Net,self).__init__()\n",
    "        self.conv1 = nn.Sequential(\n",
    "            Conv2d(1, 32, kernel_size=3),\n",
    "            ReLU(),\n",
    "            MaxPool2d(kernel_size=2),\n",
    "            Dropout2d(p=0.25))\n",
    "        self.conv2 = nn.Sequential(\n",
    "            Conv2d(32, 64, kernel_size=3),\n",
    "            ReLU(),\n",
    "            MaxPool2d(kernel_size=2),\n",
    "            Dropout2d(p=0.25))\n",
    "        self.conv3 = nn.Sequential(\n",
    "            Conv2d(64, 128, kernel_size=3),\n",
    "            ReLU()\n",
    "            )\n",
    "            \n",
    "        self.fc1 = Linear(1152,64)\n",
    "        self.fc2 = Linear(64,10)\n",
    "    \n",
    "    def forward(self,x):\n",
    "        out = self.conv1(x)\n",
    "        out = self.conv2(out)\n",
    "        out = self.conv3(out)\n",
    "        out = out.reshape(out.size(0),-1)\n",
    "        out = self.fc1(out)\n",
    "        out = self.fc2(out)\n",
    "        return out\n",
    "\n",
    "model = Net()"
   ]
  },
  {
   "cell_type": "code",
   "execution_count": 11,
   "metadata": {},
   "outputs": [],
   "source": [
    "#Loss and optimizer#Loss an \n",
    "criterion = nn.CrossEntropyLoss()\n",
    "optimizer = optim.Adam(model.parameters(), lr=0.001)"
   ]
  },
  {
   "cell_type": "code",
   "execution_count": 12,
   "metadata": {},
   "outputs": [
    {
     "name": "stdout",
     "output_type": "stream",
     "text": [
      "Epoch [1/20], Step [500/1875], Loss: 0.5063\n",
      "Epoch [1/20], Step [1000/1875], Loss: 0.4216\n",
      "Epoch [1/20], Step [1500/1875], Loss: 0.5882\n",
      "Epoch [2/20], Step [500/1875], Loss: 0.4526\n",
      "Epoch [2/20], Step [1000/1875], Loss: 0.2687\n",
      "Epoch [2/20], Step [1500/1875], Loss: 0.3794\n",
      "Epoch [3/20], Step [500/1875], Loss: 0.3182\n",
      "Epoch [3/20], Step [1000/1875], Loss: 0.2797\n",
      "Epoch [3/20], Step [1500/1875], Loss: 0.2367\n",
      "Epoch [4/20], Step [500/1875], Loss: 0.3937\n",
      "Epoch [4/20], Step [1000/1875], Loss: 0.2160\n",
      "Epoch [4/20], Step [1500/1875], Loss: 0.2132\n",
      "Epoch [5/20], Step [500/1875], Loss: 0.3809\n",
      "Epoch [5/20], Step [1000/1875], Loss: 0.4718\n",
      "Epoch [5/20], Step [1500/1875], Loss: 0.3038\n",
      "Epoch [6/20], Step [500/1875], Loss: 0.1538\n",
      "Epoch [6/20], Step [1000/1875], Loss: 0.4204\n",
      "Epoch [6/20], Step [1500/1875], Loss: 0.1885\n",
      "Epoch [7/20], Step [500/1875], Loss: 0.0849\n",
      "Epoch [7/20], Step [1000/1875], Loss: 0.2882\n",
      "Epoch [7/20], Step [1500/1875], Loss: 0.5546\n",
      "Epoch [8/20], Step [500/1875], Loss: 0.3298\n",
      "Epoch [8/20], Step [1000/1875], Loss: 0.3818\n",
      "Epoch [8/20], Step [1500/1875], Loss: 0.2777\n",
      "Epoch [9/20], Step [500/1875], Loss: 0.1466\n",
      "Epoch [9/20], Step [1000/1875], Loss: 0.0978\n",
      "Epoch [9/20], Step [1500/1875], Loss: 0.3988\n",
      "Epoch [10/20], Step [500/1875], Loss: 0.3295\n",
      "Epoch [10/20], Step [1000/1875], Loss: 0.1775\n",
      "Epoch [10/20], Step [1500/1875], Loss: 0.2090\n",
      "Epoch [11/20], Step [500/1875], Loss: 0.1448\n",
      "Epoch [11/20], Step [1000/1875], Loss: 0.1424\n",
      "Epoch [11/20], Step [1500/1875], Loss: 0.1011\n",
      "Epoch [12/20], Step [500/1875], Loss: 0.2524\n",
      "Epoch [12/20], Step [1000/1875], Loss: 0.1809\n",
      "Epoch [12/20], Step [1500/1875], Loss: 0.4436\n",
      "Epoch [13/20], Step [500/1875], Loss: 0.1271\n",
      "Epoch [13/20], Step [1000/1875], Loss: 0.1798\n",
      "Epoch [13/20], Step [1500/1875], Loss: 0.2859\n",
      "Epoch [14/20], Step [500/1875], Loss: 0.2733\n",
      "Epoch [14/20], Step [1000/1875], Loss: 0.2383\n",
      "Epoch [14/20], Step [1500/1875], Loss: 0.2512\n",
      "Epoch [15/20], Step [500/1875], Loss: 0.4594\n",
      "Epoch [15/20], Step [1000/1875], Loss: 0.2242\n",
      "Epoch [15/20], Step [1500/1875], Loss: 0.4501\n",
      "Epoch [16/20], Step [500/1875], Loss: 0.3571\n",
      "Epoch [16/20], Step [1000/1875], Loss: 0.2372\n",
      "Epoch [16/20], Step [1500/1875], Loss: 0.1278\n",
      "Epoch [17/20], Step [500/1875], Loss: 0.1253\n",
      "Epoch [17/20], Step [1000/1875], Loss: 0.2033\n",
      "Epoch [17/20], Step [1500/1875], Loss: 0.3493\n",
      "Epoch [18/20], Step [500/1875], Loss: 0.2944\n",
      "Epoch [18/20], Step [1000/1875], Loss: 0.2594\n",
      "Epoch [18/20], Step [1500/1875], Loss: 0.5046\n",
      "Epoch [19/20], Step [500/1875], Loss: 0.1938\n",
      "Epoch [19/20], Step [1000/1875], Loss: 0.2294\n",
      "Epoch [19/20], Step [1500/1875], Loss: 0.1148\n",
      "Epoch [20/20], Step [500/1875], Loss: 0.2150\n",
      "Epoch [20/20], Step [1000/1875], Loss: 0.6961\n",
      "Epoch [20/20], Step [1500/1875], Loss: 0.2517\n"
     ]
    }
   ],
   "source": [
    "#Train model\n",
    "num_epochs = 20\n",
    "total_step = len(train_loader)\n",
    "for epoch in range(num_epochs):\n",
    "    for i, (images, labels) in enumerate(train_loader):\n",
    "        images = images\n",
    "        labels = labels\n",
    "        \n",
    "        # Forward pass\n",
    "        outputs = model(images)\n",
    "        loss = criterion(outputs, labels)\n",
    "        \n",
    "        # Backward and optimize\n",
    "        optimizer.zero_grad()\n",
    "        loss.backward()\n",
    "        optimizer.step()\n",
    "        \n",
    "        if (i+1) % 500 == 0:\n",
    "            print ('Epoch [{}/{}], Step [{}/{}], Loss: {:.4f}' \n",
    "                   .format(epoch+1, num_epochs, i+1, total_step, loss.item()))"
   ]
  },
  {
   "cell_type": "code",
   "execution_count": 13,
   "metadata": {},
   "outputs": [
    {
     "name": "stdout",
     "output_type": "stream",
     "text": [
      "Test Accuracy of the model: 90.36 %\n"
     ]
    }
   ],
   "source": [
    "\n",
    "#Test model\n",
    "model.eval()  # eval mode (batchnorm uses moving mean/variance instead of mini-batch mean/variance)\n",
    "with torch.no_grad():\n",
    "    correct = 0\n",
    "    total = 0\n",
    "    for images, labels in test_loader:\n",
    "        images = images\n",
    "        labels = labels\n",
    "        outputs = model(images)\n",
    "        _, predicted = torch.max(outputs.data, 1)\n",
    "        total += labels.size(0)\n",
    "        correct += (predicted == labels).sum().item()\n",
    "\n",
    "    print('Test Accuracy of the model: {} %'.format(100 * correct / total))"
   ]
  },
  {
   "cell_type": "code",
   "execution_count": null,
   "metadata": {},
   "outputs": [],
   "source": []
  }
 ],
 "metadata": {
  "kernelspec": {
   "display_name": "Python 3",
   "language": "python",
   "name": "python3"
  },
  "language_info": {
   "codemirror_mode": {
    "name": "ipython",
    "version": 3
   },
   "file_extension": ".py",
   "mimetype": "text/x-python",
   "name": "python",
   "nbconvert_exporter": "python",
   "pygments_lexer": "ipython3",
   "version": "3.6.5"
  }
 },
 "nbformat": 4,
 "nbformat_minor": 2
}
