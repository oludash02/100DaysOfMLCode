{
 "cells": [
  {
   "cell_type": "markdown",
   "metadata": {},
   "source": [
    "### Dogs vs Cats classification in Keras"
   ]
  },
  {
   "cell_type": "code",
   "execution_count": 1,
   "metadata": {},
   "outputs": [
    {
     "name": "stderr",
     "output_type": "stream",
     "text": [
      "/home/karen/anaconda3/lib/python3.6/site-packages/h5py/__init__.py:36: FutureWarning: Conversion of the second argument of issubdtype from `float` to `np.floating` is deprecated. In future, it will be treated as `np.float64 == np.dtype(float).type`.\n",
      "  from ._conv import register_converters as _register_converters\n",
      "Using TensorFlow backend.\n"
     ]
    },
    {
     "name": "stdout",
     "output_type": "stream",
     "text": [
      "16000\n",
      "5000\n",
      "4000\n"
     ]
    }
   ],
   "source": [
    "#In Keras\n",
    "from keras import optimizers\n",
    "from keras.applications.vgg16 import VGG16\n",
    "from keras.models import Sequential\n",
    "from keras.layers import Dense, Conv2D, MaxPooling2D, Flatten, Dropout\n",
    "import matplotlib.pyplot as plt\n",
    "import os\n",
    "import glob\n",
    "%matplotlib inline\n",
    "\n",
    "vgg_model = VGG16(weights='imagenet', include_top=False, input_shape=(224,224,3))\n",
    "train_dir = 'data/dogscats/cats_and_dogs/train'\n",
    "valid_dir = 'data/dogscats/cats_and_dogs/validation'\n",
    "test_dir = 'data/dogscats/cats_and_dogs/test'\n",
    "\n",
    "print(len(glob.glob(os.path.join(train_dir, '*/*.jpg')))) #cats + dogs images in training data\n",
    "print(len(glob.glob(os.path.join(valid_dir, '*/*.jpg')))) #cats + dogs images in validation data\n",
    "print(len(glob.glob(os.path.join(test_dir, '*/*.jpg')))) #cats + dogs images in test data"
   ]
  },
  {
   "cell_type": "markdown",
   "metadata": {},
   "source": [
    "#### Data Augmentation"
   ]
  },
  {
   "cell_type": "code",
   "execution_count": 2,
   "metadata": {},
   "outputs": [
    {
     "name": "stdout",
     "output_type": "stream",
     "text": [
      "Found 16000 images belonging to 2 classes.\n",
      "Found 5000 images belonging to 2 classes.\n"
     ]
    }
   ],
   "source": [
    "from keras.preprocessing.image import ImageDataGenerator\n",
    "\n",
    "train_datagen = ImageDataGenerator(rescale=1./255,\n",
    "                                  rotation_range=30,\n",
    "                                  width_shift_range=0.2,\n",
    "                                  height_shift_range=0.2,\n",
    "                                  shear_range=0.1,\n",
    "                                  zoom_range=0.1,\n",
    "                                  horizontal_flip=True,\n",
    "                                  fill_mode='nearest')\n",
    "\n",
    "valid_datagen = ImageDataGenerator(rescale=1./255, horizontal_flip=True)\n",
    "\n",
    "train_gen = train_datagen.flow_from_directory(train_dir,\n",
    "                                             target_size=(224,224),\n",
    "                                             batch_size=32,\n",
    "                                             class_mode='binary')\n",
    "\n",
    "\n",
    "valid_gen = valid_datagen.flow_from_directory(valid_dir,\n",
    "                                             target_size=(224,224),\n",
    "                                             batch_size=32,\n",
    "                                             class_mode='binary')"
   ]
  },
  {
   "cell_type": "markdown",
   "metadata": {},
   "source": [
    "#### Model Tuning"
   ]
  },
  {
   "cell_type": "code",
   "execution_count": 3,
   "metadata": {},
   "outputs": [
    {
     "name": "stdout",
     "output_type": "stream",
     "text": [
      "_________________________________________________________________\n",
      "Layer (type)                 Output Shape              Param #   \n",
      "=================================================================\n",
      "vgg16 (Model)                (None, 7, 7, 512)         14714688  \n",
      "_________________________________________________________________\n",
      "flatten_1 (Flatten)          (None, 25088)             0         \n",
      "_________________________________________________________________\n",
      "dense_1 (Dense)              (None, 512)               12845568  \n",
      "_________________________________________________________________\n",
      "dense_2 (Dense)              (None, 1)                 513       \n",
      "=================================================================\n",
      "Total params: 27,560,769\n",
      "Trainable params: 27,560,769\n",
      "Non-trainable params: 0\n",
      "_________________________________________________________________\n"
     ]
    }
   ],
   "source": [
    "model = Sequential()\n",
    "model.add(vgg_model)\n",
    "model.add(Flatten())\n",
    "model.add(Dense(512, activation='relu'))\n",
    "model.add(Dense(1, activation='sigmoid'))\n",
    "\n",
    "model.summary()"
   ]
  },
  {
   "cell_type": "code",
   "execution_count": 4,
   "metadata": {},
   "outputs": [],
   "source": [
    "vgg_model.trainable = True\n",
    "set_trainable = False\n",
    "\n",
    "#This unfreezes the last convolution layer so it can learn new weights when training\n",
    "for layer in vgg_model.layers:\n",
    "    if layer.name == 'block5_conv1':\n",
    "        set_trainable = True\n",
    "    if set_trainable:\n",
    "        layer.trainable = True\n",
    "    else:\n",
    "        layer.trainable = False"
   ]
  },
  {
   "cell_type": "markdown",
   "metadata": {},
   "source": [
    "#### Compile and Run"
   ]
  },
  {
   "cell_type": "code",
   "execution_count": 5,
   "metadata": {},
   "outputs": [
    {
     "name": "stdout",
     "output_type": "stream",
     "text": [
      "Epoch 1/20\n",
      "500/500 [==============================] - 142s 283ms/step - loss: 0.2301 - acc: 0.8975 - val_loss: 0.1057 - val_acc: 0.9544\n",
      "Epoch 2/20\n",
      "500/500 [==============================] - 139s 278ms/step - loss: 0.1304 - acc: 0.9473 - val_loss: 0.1020 - val_acc: 0.9600\n",
      "Epoch 3/20\n",
      "500/500 [==============================] - 138s 276ms/step - loss: 0.1029 - acc: 0.9573 - val_loss: 0.0950 - val_acc: 0.9669\n",
      "Epoch 4/20\n",
      "500/500 [==============================] - 139s 278ms/step - loss: 0.0913 - acc: 0.9633 - val_loss: 0.0931 - val_acc: 0.9644\n",
      "Epoch 5/20\n",
      "500/500 [==============================] - 138s 275ms/step - loss: 0.0838 - acc: 0.9660 - val_loss: 0.0881 - val_acc: 0.9675\n",
      "Epoch 6/20\n",
      "500/500 [==============================] - 138s 277ms/step - loss: 0.0709 - acc: 0.9721 - val_loss: 0.0919 - val_acc: 0.9675\n",
      "Epoch 7/20\n",
      "500/500 [==============================] - 139s 279ms/step - loss: 0.0718 - acc: 0.9722 - val_loss: 0.0864 - val_acc: 0.9688\n",
      "Epoch 8/20\n",
      "500/500 [==============================] - 140s 280ms/step - loss: 0.0568 - acc: 0.9774 - val_loss: 0.0904 - val_acc: 0.9694\n",
      "Epoch 9/20\n",
      "500/500 [==============================] - 139s 279ms/step - loss: 0.0518 - acc: 0.9805 - val_loss: 0.0746 - val_acc: 0.9725\n",
      "Epoch 10/20\n",
      "500/500 [==============================] - 140s 280ms/step - loss: 0.0490 - acc: 0.9810 - val_loss: 0.0952 - val_acc: 0.9688\n",
      "Epoch 11/20\n",
      "500/500 [==============================] - 138s 277ms/step - loss: 0.0415 - acc: 0.9838 - val_loss: 0.1178 - val_acc: 0.9613\n",
      "Epoch 12/20\n",
      "500/500 [==============================] - 138s 276ms/step - loss: 0.0387 - acc: 0.9853 - val_loss: 0.0913 - val_acc: 0.9712\n",
      "Epoch 13/20\n",
      "500/500 [==============================] - 140s 279ms/step - loss: 0.0362 - acc: 0.9867 - val_loss: 0.0994 - val_acc: 0.9712\n",
      "Epoch 14/20\n",
      "500/500 [==============================] - 139s 279ms/step - loss: 0.0345 - acc: 0.9866 - val_loss: 0.1083 - val_acc: 0.9719\n",
      "Epoch 15/20\n",
      "500/500 [==============================] - 140s 280ms/step - loss: 0.0324 - acc: 0.9879 - val_loss: 0.0941 - val_acc: 0.9706\n",
      "Epoch 16/20\n",
      "500/500 [==============================] - 139s 278ms/step - loss: 0.0296 - acc: 0.9884 - val_loss: 0.1492 - val_acc: 0.9619\n",
      "Epoch 17/20\n",
      "500/500 [==============================] - 138s 277ms/step - loss: 0.0242 - acc: 0.9909 - val_loss: 0.1101 - val_acc: 0.9731\n",
      "Epoch 18/20\n",
      "500/500 [==============================] - 139s 277ms/step - loss: 0.0262 - acc: 0.9904 - val_loss: 0.1409 - val_acc: 0.9656\n",
      "Epoch 19/20\n",
      "500/500 [==============================] - 140s 279ms/step - loss: 0.0239 - acc: 0.9911 - val_loss: 0.1180 - val_acc: 0.9712\n",
      "Epoch 20/20\n",
      "500/500 [==============================] - 139s 278ms/step - loss: 0.0225 - acc: 0.9916 - val_loss: 0.1029 - val_acc: 0.9650\n"
     ]
    }
   ],
   "source": [
    "model.compile(loss='binary_crossentropy',\n",
    "             optimizer=optimizers.Adam(lr=2e-5),\n",
    "             metrics=['accuracy'])\n",
    "\n",
    "history = model.fit_generator(train_gen, \n",
    "                              epochs=20, \n",
    "                              validation_data=valid_gen,\n",
    "                             validation_steps=50,\n",
    "                             verbose=1)\n",
    "\n",
    "model.save('cats_dogs_keras_vgg16.h5')"
   ]
  },
  {
   "cell_type": "markdown",
   "metadata": {},
   "source": [
    "#### Plot training information"
   ]
  },
  {
   "cell_type": "code",
   "execution_count": 6,
   "metadata": {},
   "outputs": [
    {
     "data": {
      "image/png": "[encoded data removed]",
      "text/plain": [
       "<Figure size 432x288 with 1 Axes>"
      ]
     },
     "metadata": {},
     "output_type": "display_data"
    },
    {
     "data": {
      "image/png": "[encoded data removed]",
      "text/plain": [
       "<Figure size 432x288 with 1 Axes>"
      ]
     },
     "metadata": {},
     "output_type": "display_data"
    }
   ],
   "source": [
    "#Reference: https://github.com/fchollet/deep-learning-with-python-notebooks\n",
    "import matplotlib.pyplot as plt\n",
    "\n",
    "acc = history.history['acc']\n",
    "val_acc = history.history['val_acc']\n",
    "loss = history.history['loss']\n",
    "val_loss = history.history['val_loss']\n",
    "\n",
    "epochs = range(len(acc))\n",
    "\n",
    "plt.plot(epochs, acc, 'bo', label='Training acc')\n",
    "plt.plot(epochs, val_acc, 'b', label='Validation acc')\n",
    "plt.title('Training and validation accuracy')\n",
    "plt.legend()\n",
    "\n",
    "plt.figure()\n",
    "\n",
    "plt.plot(epochs, loss, 'bo', label='Training loss')\n",
    "plt.plot(epochs, val_loss, 'b', label='Validation loss')\n",
    "plt.title('Training and validation loss')\n",
    "plt.legend()\n",
    "\n",
    "plt.show()"
   ]
  },
  {
   "cell_type": "markdown",
   "metadata": {},
   "source": [
    "#### Test model"
   ]
  },
  {
   "cell_type": "code",
   "execution_count": 7,
   "metadata": {},
   "outputs": [
    {
     "name": "stdout",
     "output_type": "stream",
     "text": [
      "Found 4000 images belonging to 2 classes.\n",
      "Test accuracy:  0.96375\n"
     ]
    }
   ],
   "source": [
    "test_datagen = ImageDataGenerator(rescale=1./255)\n",
    "test_gen = test_datagen.flow_from_directory(\n",
    "            test_dir, \n",
    "            target_size=(224,224),\n",
    "            batch_size=32, \n",
    "            class_mode='binary')\n",
    "\n",
    "test_loss, test_acc = model.evaluate_generator(test_gen, steps=50)\n",
    "print('Test accuracy: ', test_acc)"
   ]
  },
  {
   "cell_type": "code",
   "execution_count": null,
   "metadata": {},
   "outputs": [],
   "source": []
  }
 ],
 "metadata": {
  "kernelspec": {
   "display_name": "Python 3",
   "language": "python",
   "name": "python3"
  },
  "language_info": {
   "codemirror_mode": {
    "name": "ipython",
    "version": 3
   },
   "file_extension": ".py",
   "mimetype": "text/x-python",
   "name": "python",
   "nbconvert_exporter": "python",
   "pygments_lexer": "ipython3",
   "version": "3.6.5"
  }
 },
 "nbformat": 4,
 "nbformat_minor": 2
}
