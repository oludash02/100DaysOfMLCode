{
 "cells": [
  {
   "cell_type": "code",
   "execution_count": 1,
   "metadata": {},
   "outputs": [],
   "source": [
    "from sklearn.datasets import fetch_mldata\n",
    "import matplotlib.pyplot as plt\n",
    "import matplotlib\n",
    "import numpy as np\n",
    "%matplotlib inline\n",
    "\n",
    "mnist = fetch_mldata('MNIST original')\n",
    "X = mnist.data\n",
    "y = mnist.target"
   ]
  },
  {
   "cell_type": "code",
   "execution_count": 2,
   "metadata": {},
   "outputs": [
    {
     "name": "stdout",
     "output_type": "stream",
     "text": [
      "0.0\n"
     ]
    },
    {
     "data": {
      "image/png": "[encoded data removed]",
      "text/plain": [
       "<Figure size 432x288 with 1 Axes>"
      ]
     },
     "metadata": {},
     "output_type": "display_data"
    }
   ],
   "source": [
    "rand_digit = X[3000]\n",
    "digit_img = rand_digit.reshape(28,28)\n",
    "print(y[3000])\n",
    "plt.imshow(digit_img, cmap = matplotlib.cm.binary, interpolation=\"nearest\")\n",
    "plt.axis(\"off\")\n",
    "plt.show()"
   ]
  },
  {
   "cell_type": "code",
   "execution_count": 5,
   "metadata": {},
   "outputs": [
    {
     "name": "stdout",
     "output_type": "stream",
     "text": [
      "Accuracy for LinearSVC: 0.9103571428571429\n"
     ]
    },
    {
     "data": {
      "image/png": "[encoded data removed]",
      "text/plain": [
       "<Figure size 288x288 with 1 Axes>"
      ]
     },
     "metadata": {},
     "output_type": "display_data"
    }
   ],
   "source": [
    "from sklearn.model_selection import train_test_split, cross_val_predict, cross_val_score\n",
    "from sklearn.metrics import accuracy_score, precision_score, recall_score, confusion_matrix\n",
    "from sklearn.ensemble import RandomForestClassifier\n",
    "from sklearn.preprocessing import StandardScaler\n",
    "from sklearn.svm import LinearSVC, SVC\n",
    "\n",
    "#Split into training and test set\n",
    "X_train, X_test, y_train, y_test = train_test_split(X,y,test_size=0.2, random_state=42)\n",
    "\n",
    "#Scale the training and test data\n",
    "scaler = StandardScaler()\n",
    "X_train_scaled = scaler.fit_transform(X_train.astype(np.float64))\n",
    "X_test_scaled = scaler.fit_transform(X_test.astype(np.float64))\n",
    "\n",
    "svm_clf = LinearSVC(random_state=42) #same as SVC with a linear kernel but LinearSVC is much faster\n",
    "svm_svc = SVC(C=10, random_state=42) #SVC with rbf default kernel\n",
    "\n",
    "#Train \n",
    "svm_clf.fit(X_train_scaled, y_train)\n",
    "svm_svc.fit(X_train_scaled, y_train)\n",
    "\n",
    "y_pred = svm_clf.predict(X_test_scaled) #test\n",
    "print(\"Accuracy for LinearSVC: {}\".format(accuracy_score(y_pred,y_test)))\n",
    "\n",
    "#With cross validation\n",
    "y_train_pred = cross_val_predict(svm_clf, X_train_scaled, y_train, cv=5)\n",
    "conf_mx = confusion_matrix(y_train,y_train_pred)\n",
    "plt.matshow(conf_mx, cmap=plt.cm.gray)\n",
    "plt.show()"
   ]
  },
  {
   "cell_type": "code",
   "execution_count": 6,
   "metadata": {},
   "outputs": [
    {
     "name": "stdout",
     "output_type": "stream",
     "text": [
      "Accuracy for SVC_rbf: 0.9737857142857143\n"
     ]
    }
   ],
   "source": [
    "y_pred = svm_svc.predict(X_test_scaled)\n",
    "print(\"Accuracy for SVC_rbf: {}\".format(accuracy_score(y_pred,y_test)))\n",
    "\n",
    "#With cross validation\n",
    "y_train_pred = cross_val_predict(svm_svc, X_train_scaled, y_train, cv=5) \n",
    "conf_mx = confusion_matrix(y_train,y_train_pred)\n",
    "plt.matshow(conf_mx, cmap=plt.cm.gray)\n",
    "plt.show()"
   ]
  },
  {
   "cell_type": "code",
   "execution_count": 8,
   "metadata": {},
   "outputs": [
    {
     "data": {
      "text/plain": [
       "\"\\nfrom tpot import TPOTClassifier\\ntpot = TPOTClassifier(generations=5, population_size=40, verbosity=2)\\ntpot.fit(X_train,y_train) #Scaling and data preprocessing is done automatically\\n\\nprint(tpot.score(X_test,y_test))\\ntpot.export('tpot_mnist_pipeline.py') #Save the corresponding python code for best pipeline as tpot_mnist_pipeline.py\\n\""
      ]
     },
     "execution_count": 8,
     "metadata": {},
     "output_type": "execute_result"
    }
   ],
   "source": [
    "#Introducing tpot python library ---- https://github.com/EpistasisLab/tpot\n",
    "\n",
    "from tpot import TPOTClassifier\n",
    "tpot = TPOTClassifier(generations=5, population_size=40, verbosity=2)\n",
    "tpot.fit(X_train,y_train) #Scaling and data preprocessing is done automatically\n",
    "\n",
    "print(tpot.score(X_test,y_test))\n",
    "tpot.export('tpot_mnist_pipeline.py') #Save the corresponding python code for best pipeline as tpot_mnist_pipeline.py\n"
   ]
  },
  {
   "cell_type": "code",
   "execution_count": null,
   "metadata": {},
   "outputs": [],
   "source": []
  }
 ],
 "metadata": {
  "kernelspec": {
   "display_name": "Python 3",
   "language": "python",
   "name": "python3"
  },
  "language_info": {
   "codemirror_mode": {
    "name": "ipython",
    "version": 3
   },
   "file_extension": ".py",
   "mimetype": "text/x-python",
   "name": "python",
   "nbconvert_exporter": "python",
   "pygments_lexer": "ipython3",
   "version": "3.6.5"
  }
 },
 "nbformat": 4,
 "nbformat_minor": 2
}
