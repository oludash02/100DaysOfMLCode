{
 "cells": [
  {
   "cell_type": "code",
   "execution_count": 1,
   "metadata": {},
   "outputs": [],
   "source": [
    "import pandas as pd\n",
    "import matplotlib.pyplot as plt\n",
    "import warnings\n",
    "import numpy as np\n",
    "warnings.filterwarnings(action=\"ignore\", module=\"scipy\", message=\"^internal gelsd\")"
   ]
  },
  {
   "cell_type": "code",
   "execution_count": 2,
   "metadata": {},
   "outputs": [
    {
     "data": {
      "text/html": [
       "<div>\n",
       "<style scoped>\n",
       "    .dataframe tbody tr th:only-of-type {\n",
       "        vertical-align: middle;\n",
       "    }\n",
       "\n",
       "    .dataframe tbody tr th {\n",
       "        vertical-align: top;\n",
       "    }\n",
       "\n",
       "    .dataframe thead th {\n",
       "        text-align: right;\n",
       "    }\n",
       "</style>\n",
       "<table border=\"1\" class=\"dataframe\">\n",
       "  <thead>\n",
       "    <tr style=\"text-align: right;\">\n",
       "      <th></th>\n",
       "      <th>Quality</th>\n",
       "      <th>Pre-screening</th>\n",
       "      <th>Microaneurysm_alpha0.5</th>\n",
       "      <th>Microaneurysm_alpha0.6</th>\n",
       "      <th>Microaneurysm_alpha0.7</th>\n",
       "      <th>Microaneurysm _alpha0.8</th>\n",
       "      <th>Microaneurysm_alpha0.9</th>\n",
       "      <th>Microaneurysm_alpha1.0</th>\n",
       "      <th>Exudates_alpha0.1</th>\n",
       "      <th>Exudates_alpha0.2</th>\n",
       "      <th>Exudates_alpha0.3</th>\n",
       "      <th>Exudates_alpha0.4</th>\n",
       "      <th>Exudates_alpha0.5</th>\n",
       "      <th>Exudates_alpha0.6</th>\n",
       "      <th>Exudates_alpha0.7</th>\n",
       "      <th>Exudates_alpha0.8</th>\n",
       "      <th>Euclidean distance</th>\n",
       "      <th>Diameter</th>\n",
       "      <th>AM/FM Class</th>\n",
       "      <th>Class Label</th>\n",
       "    </tr>\n",
       "  </thead>\n",
       "  <tbody>\n",
       "    <tr>\n",
       "      <th>0</th>\n",
       "      <td>1</td>\n",
       "      <td>1</td>\n",
       "      <td>22</td>\n",
       "      <td>22</td>\n",
       "      <td>22</td>\n",
       "      <td>19</td>\n",
       "      <td>18</td>\n",
       "      <td>14</td>\n",
       "      <td>49.895756</td>\n",
       "      <td>17.775994</td>\n",
       "      <td>5.270920</td>\n",
       "      <td>0.771761</td>\n",
       "      <td>0.018632</td>\n",
       "      <td>0.006864</td>\n",
       "      <td>0.003923</td>\n",
       "      <td>0.003923</td>\n",
       "      <td>0.486903</td>\n",
       "      <td>0.100025</td>\n",
       "      <td>1</td>\n",
       "      <td>0</td>\n",
       "    </tr>\n",
       "    <tr>\n",
       "      <th>1</th>\n",
       "      <td>1</td>\n",
       "      <td>1</td>\n",
       "      <td>24</td>\n",
       "      <td>24</td>\n",
       "      <td>22</td>\n",
       "      <td>18</td>\n",
       "      <td>16</td>\n",
       "      <td>13</td>\n",
       "      <td>57.709936</td>\n",
       "      <td>23.799994</td>\n",
       "      <td>3.325423</td>\n",
       "      <td>0.234185</td>\n",
       "      <td>0.003903</td>\n",
       "      <td>0.003903</td>\n",
       "      <td>0.003903</td>\n",
       "      <td>0.003903</td>\n",
       "      <td>0.520908</td>\n",
       "      <td>0.144414</td>\n",
       "      <td>0</td>\n",
       "      <td>0</td>\n",
       "    </tr>\n",
       "    <tr>\n",
       "      <th>2</th>\n",
       "      <td>1</td>\n",
       "      <td>1</td>\n",
       "      <td>62</td>\n",
       "      <td>60</td>\n",
       "      <td>59</td>\n",
       "      <td>54</td>\n",
       "      <td>47</td>\n",
       "      <td>33</td>\n",
       "      <td>55.831441</td>\n",
       "      <td>27.993933</td>\n",
       "      <td>12.687485</td>\n",
       "      <td>4.852282</td>\n",
       "      <td>1.393889</td>\n",
       "      <td>0.373252</td>\n",
       "      <td>0.041817</td>\n",
       "      <td>0.007744</td>\n",
       "      <td>0.530904</td>\n",
       "      <td>0.128548</td>\n",
       "      <td>0</td>\n",
       "      <td>1</td>\n",
       "    </tr>\n",
       "    <tr>\n",
       "      <th>3</th>\n",
       "      <td>1</td>\n",
       "      <td>1</td>\n",
       "      <td>55</td>\n",
       "      <td>53</td>\n",
       "      <td>53</td>\n",
       "      <td>50</td>\n",
       "      <td>43</td>\n",
       "      <td>31</td>\n",
       "      <td>40.467228</td>\n",
       "      <td>18.445954</td>\n",
       "      <td>9.118901</td>\n",
       "      <td>3.079428</td>\n",
       "      <td>0.840261</td>\n",
       "      <td>0.272434</td>\n",
       "      <td>0.007653</td>\n",
       "      <td>0.001531</td>\n",
       "      <td>0.483284</td>\n",
       "      <td>0.114790</td>\n",
       "      <td>0</td>\n",
       "      <td>0</td>\n",
       "    </tr>\n",
       "    <tr>\n",
       "      <th>4</th>\n",
       "      <td>1</td>\n",
       "      <td>1</td>\n",
       "      <td>44</td>\n",
       "      <td>44</td>\n",
       "      <td>44</td>\n",
       "      <td>41</td>\n",
       "      <td>39</td>\n",
       "      <td>27</td>\n",
       "      <td>18.026254</td>\n",
       "      <td>8.570709</td>\n",
       "      <td>0.410381</td>\n",
       "      <td>0.000000</td>\n",
       "      <td>0.000000</td>\n",
       "      <td>0.000000</td>\n",
       "      <td>0.000000</td>\n",
       "      <td>0.000000</td>\n",
       "      <td>0.475935</td>\n",
       "      <td>0.123572</td>\n",
       "      <td>0</td>\n",
       "      <td>1</td>\n",
       "    </tr>\n",
       "  </tbody>\n",
       "</table>\n",
       "</div>"
      ],
      "text/plain": [
       "   Quality  Pre-screening  Microaneurysm_alpha0.5  Microaneurysm_alpha0.6  \\\n",
       "0        1              1                      22                      22   \n",
       "1        1              1                      24                      24   \n",
       "2        1              1                      62                      60   \n",
       "3        1              1                      55                      53   \n",
       "4        1              1                      44                      44   \n",
       "\n",
       "   Microaneurysm_alpha0.7  Microaneurysm _alpha0.8  Microaneurysm_alpha0.9  \\\n",
       "0                      22                       19                      18   \n",
       "1                      22                       18                      16   \n",
       "2                      59                       54                      47   \n",
       "3                      53                       50                      43   \n",
       "4                      44                       41                      39   \n",
       "\n",
       "   Microaneurysm_alpha1.0  Exudates_alpha0.1  Exudates_alpha0.2  \\\n",
       "0                      14          49.895756          17.775994   \n",
       "1                      13          57.709936          23.799994   \n",
       "2                      33          55.831441          27.993933   \n",
       "3                      31          40.467228          18.445954   \n",
       "4                      27          18.026254           8.570709   \n",
       "\n",
       "   Exudates_alpha0.3  Exudates_alpha0.4  Exudates_alpha0.5  Exudates_alpha0.6  \\\n",
       "0           5.270920           0.771761           0.018632           0.006864   \n",
       "1           3.325423           0.234185           0.003903           0.003903   \n",
       "2          12.687485           4.852282           1.393889           0.373252   \n",
       "3           9.118901           3.079428           0.840261           0.272434   \n",
       "4           0.410381           0.000000           0.000000           0.000000   \n",
       "\n",
       "   Exudates_alpha0.7  Exudates_alpha0.8  Euclidean distance  Diameter  \\\n",
       "0           0.003923           0.003923            0.486903  0.100025   \n",
       "1           0.003903           0.003903            0.520908  0.144414   \n",
       "2           0.041817           0.007744            0.530904  0.128548   \n",
       "3           0.007653           0.001531            0.483284  0.114790   \n",
       "4           0.000000           0.000000            0.475935  0.123572   \n",
       "\n",
       "   AM/FM Class  Class Label  \n",
       "0            1            0  \n",
       "1            0            0  \n",
       "2            0            1  \n",
       "3            0            0  \n",
       "4            0            1  "
      ]
     },
     "execution_count": 2,
     "metadata": {},
     "output_type": "execute_result"
    }
   ],
   "source": [
    "messidor = pd.read_csv(\"processed_messidor.csv\")\n",
    "messidor.head()"
   ]
  },
  {
   "cell_type": "code",
   "execution_count": 3,
   "metadata": {},
   "outputs": [
    {
     "data": {
      "text/plain": [
       "\"\\nsns.pairplot(messidor, vars=['Microaneurysm_alpha0.5','Microaneurysm_alpha0.6',\\n                            'Exudates_alpha0.1','Exudates_alpha0.2','Exudates_alpha0.3',\\n                            'Euclidean distance', 'Diameter'])\\n\""
      ]
     },
     "execution_count": 3,
     "metadata": {},
     "output_type": "execute_result"
    }
   ],
   "source": [
    "import seaborn as sns\n",
    "plt.style.use('ggplot')\n",
    "\n",
    "'''\n",
    "sns.pairplot(messidor, vars=['Microaneurysm_alpha0.5','Microaneurysm_alpha0.6',\n",
    "                            'Exudates_alpha0.1','Exudates_alpha0.2','Exudates_alpha0.3',\n",
    "                            'Euclidean distance', 'Diameter'])\n",
    "'''"
   ]
  },
  {
   "cell_type": "code",
   "execution_count": 4,
   "metadata": {},
   "outputs": [
    {
     "data": {
      "text/html": [
       "<div>\n",
       "<style scoped>\n",
       "    .dataframe tbody tr th:only-of-type {\n",
       "        vertical-align: middle;\n",
       "    }\n",
       "\n",
       "    .dataframe tbody tr th {\n",
       "        vertical-align: top;\n",
       "    }\n",
       "\n",
       "    .dataframe thead th {\n",
       "        text-align: right;\n",
       "    }\n",
       "</style>\n",
       "<table border=\"1\" class=\"dataframe\">\n",
       "  <thead>\n",
       "    <tr style=\"text-align: right;\">\n",
       "      <th></th>\n",
       "      <th>Quality</th>\n",
       "      <th>Pre-screening</th>\n",
       "      <th>Microaneurysm_alpha0.5</th>\n",
       "      <th>Microaneurysm_alpha0.6</th>\n",
       "      <th>Microaneurysm_alpha0.7</th>\n",
       "      <th>Microaneurysm _alpha0.8</th>\n",
       "      <th>Microaneurysm_alpha0.9</th>\n",
       "      <th>Microaneurysm_alpha1.0</th>\n",
       "      <th>Exudates_alpha0.1</th>\n",
       "      <th>Exudates_alpha0.2</th>\n",
       "      <th>Exudates_alpha0.3</th>\n",
       "      <th>Exudates_alpha0.4</th>\n",
       "      <th>Exudates_alpha0.5</th>\n",
       "      <th>Exudates_alpha0.6</th>\n",
       "      <th>Exudates_alpha0.7</th>\n",
       "      <th>Exudates_alpha0.8</th>\n",
       "      <th>Euclidean distance</th>\n",
       "      <th>Diameter</th>\n",
       "      <th>AM/FM Class</th>\n",
       "      <th>Class Label</th>\n",
       "    </tr>\n",
       "  </thead>\n",
       "  <tbody>\n",
       "    <tr>\n",
       "      <th>count</th>\n",
       "      <td>1151.000000</td>\n",
       "      <td>1151.000000</td>\n",
       "      <td>1151.000000</td>\n",
       "      <td>1151.000000</td>\n",
       "      <td>1151.000000</td>\n",
       "      <td>1151.000000</td>\n",
       "      <td>1151.000000</td>\n",
       "      <td>1151.000000</td>\n",
       "      <td>1151.000000</td>\n",
       "      <td>1151.000000</td>\n",
       "      <td>1151.000000</td>\n",
       "      <td>1151.000000</td>\n",
       "      <td>1151.000000</td>\n",
       "      <td>1151.000000</td>\n",
       "      <td>1151.000000</td>\n",
       "      <td>1151.000000</td>\n",
       "      <td>1151.000000</td>\n",
       "      <td>1151.000000</td>\n",
       "      <td>1151.000000</td>\n",
       "      <td>1151.000000</td>\n",
       "    </tr>\n",
       "    <tr>\n",
       "      <th>mean</th>\n",
       "      <td>0.996525</td>\n",
       "      <td>0.918332</td>\n",
       "      <td>38.428323</td>\n",
       "      <td>36.909644</td>\n",
       "      <td>35.140747</td>\n",
       "      <td>32.297133</td>\n",
       "      <td>28.747176</td>\n",
       "      <td>21.151173</td>\n",
       "      <td>64.096674</td>\n",
       "      <td>23.088012</td>\n",
       "      <td>8.704610</td>\n",
       "      <td>1.836489</td>\n",
       "      <td>0.560738</td>\n",
       "      <td>0.212290</td>\n",
       "      <td>0.085674</td>\n",
       "      <td>0.037225</td>\n",
       "      <td>0.523212</td>\n",
       "      <td>0.108431</td>\n",
       "      <td>0.336229</td>\n",
       "      <td>0.530843</td>\n",
       "    </tr>\n",
       "    <tr>\n",
       "      <th>std</th>\n",
       "      <td>0.058874</td>\n",
       "      <td>0.273977</td>\n",
       "      <td>25.620913</td>\n",
       "      <td>24.105612</td>\n",
       "      <td>22.805400</td>\n",
       "      <td>21.114767</td>\n",
       "      <td>19.509227</td>\n",
       "      <td>15.101560</td>\n",
       "      <td>58.485289</td>\n",
       "      <td>21.602696</td>\n",
       "      <td>11.567589</td>\n",
       "      <td>3.923224</td>\n",
       "      <td>2.484111</td>\n",
       "      <td>1.057126</td>\n",
       "      <td>0.398717</td>\n",
       "      <td>0.178959</td>\n",
       "      <td>0.028055</td>\n",
       "      <td>0.017945</td>\n",
       "      <td>0.472624</td>\n",
       "      <td>0.499265</td>\n",
       "    </tr>\n",
       "    <tr>\n",
       "      <th>min</th>\n",
       "      <td>0.000000</td>\n",
       "      <td>0.000000</td>\n",
       "      <td>1.000000</td>\n",
       "      <td>1.000000</td>\n",
       "      <td>1.000000</td>\n",
       "      <td>1.000000</td>\n",
       "      <td>1.000000</td>\n",
       "      <td>1.000000</td>\n",
       "      <td>0.349274</td>\n",
       "      <td>0.000000</td>\n",
       "      <td>0.000000</td>\n",
       "      <td>0.000000</td>\n",
       "      <td>0.000000</td>\n",
       "      <td>0.000000</td>\n",
       "      <td>0.000000</td>\n",
       "      <td>0.000000</td>\n",
       "      <td>0.367762</td>\n",
       "      <td>0.057906</td>\n",
       "      <td>0.000000</td>\n",
       "      <td>0.000000</td>\n",
       "    </tr>\n",
       "    <tr>\n",
       "      <th>25%</th>\n",
       "      <td>1.000000</td>\n",
       "      <td>1.000000</td>\n",
       "      <td>16.000000</td>\n",
       "      <td>16.000000</td>\n",
       "      <td>15.000000</td>\n",
       "      <td>14.000000</td>\n",
       "      <td>11.000000</td>\n",
       "      <td>8.000000</td>\n",
       "      <td>22.271597</td>\n",
       "      <td>7.939315</td>\n",
       "      <td>1.249050</td>\n",
       "      <td>0.081554</td>\n",
       "      <td>0.000000</td>\n",
       "      <td>0.000000</td>\n",
       "      <td>0.000000</td>\n",
       "      <td>0.000000</td>\n",
       "      <td>0.502855</td>\n",
       "      <td>0.095799</td>\n",
       "      <td>0.000000</td>\n",
       "      <td>0.000000</td>\n",
       "    </tr>\n",
       "    <tr>\n",
       "      <th>50%</th>\n",
       "      <td>1.000000</td>\n",
       "      <td>1.000000</td>\n",
       "      <td>35.000000</td>\n",
       "      <td>35.000000</td>\n",
       "      <td>32.000000</td>\n",
       "      <td>29.000000</td>\n",
       "      <td>25.000000</td>\n",
       "      <td>18.000000</td>\n",
       "      <td>44.249119</td>\n",
       "      <td>17.038020</td>\n",
       "      <td>4.423472</td>\n",
       "      <td>0.484829</td>\n",
       "      <td>0.022248</td>\n",
       "      <td>0.001554</td>\n",
       "      <td>0.000000</td>\n",
       "      <td>0.000000</td>\n",
       "      <td>0.523308</td>\n",
       "      <td>0.106623</td>\n",
       "      <td>0.000000</td>\n",
       "      <td>1.000000</td>\n",
       "    </tr>\n",
       "    <tr>\n",
       "      <th>75%</th>\n",
       "      <td>1.000000</td>\n",
       "      <td>1.000000</td>\n",
       "      <td>55.000000</td>\n",
       "      <td>53.000000</td>\n",
       "      <td>51.000000</td>\n",
       "      <td>48.000000</td>\n",
       "      <td>43.000000</td>\n",
       "      <td>32.000000</td>\n",
       "      <td>87.804112</td>\n",
       "      <td>31.305692</td>\n",
       "      <td>11.766880</td>\n",
       "      <td>1.921649</td>\n",
       "      <td>0.191953</td>\n",
       "      <td>0.038450</td>\n",
       "      <td>0.004832</td>\n",
       "      <td>0.003851</td>\n",
       "      <td>0.543670</td>\n",
       "      <td>0.119591</td>\n",
       "      <td>1.000000</td>\n",
       "      <td>1.000000</td>\n",
       "    </tr>\n",
       "    <tr>\n",
       "      <th>max</th>\n",
       "      <td>1.000000</td>\n",
       "      <td>1.000000</td>\n",
       "      <td>151.000000</td>\n",
       "      <td>132.000000</td>\n",
       "      <td>120.000000</td>\n",
       "      <td>105.000000</td>\n",
       "      <td>97.000000</td>\n",
       "      <td>89.000000</td>\n",
       "      <td>403.939108</td>\n",
       "      <td>167.131427</td>\n",
       "      <td>106.070092</td>\n",
       "      <td>59.766121</td>\n",
       "      <td>51.423208</td>\n",
       "      <td>20.098605</td>\n",
       "      <td>5.937799</td>\n",
       "      <td>3.086753</td>\n",
       "      <td>0.592217</td>\n",
       "      <td>0.219199</td>\n",
       "      <td>1.000000</td>\n",
       "      <td>1.000000</td>\n",
       "    </tr>\n",
       "  </tbody>\n",
       "</table>\n",
       "</div>"
      ],
      "text/plain": [
       "           Quality  Pre-screening  Microaneurysm_alpha0.5  \\\n",
       "count  1151.000000    1151.000000             1151.000000   \n",
       "mean      0.996525       0.918332               38.428323   \n",
       "std       0.058874       0.273977               25.620913   \n",
       "min       0.000000       0.000000                1.000000   \n",
       "25%       1.000000       1.000000               16.000000   \n",
       "50%       1.000000       1.000000               35.000000   \n",
       "75%       1.000000       1.000000               55.000000   \n",
       "max       1.000000       1.000000              151.000000   \n",
       "\n",
       "       Microaneurysm_alpha0.6  Microaneurysm_alpha0.7  \\\n",
       "count             1151.000000             1151.000000   \n",
       "mean                36.909644               35.140747   \n",
       "std                 24.105612               22.805400   \n",
       "min                  1.000000                1.000000   \n",
       "25%                 16.000000               15.000000   \n",
       "50%                 35.000000               32.000000   \n",
       "75%                 53.000000               51.000000   \n",
       "max                132.000000              120.000000   \n",
       "\n",
       "       Microaneurysm _alpha0.8  Microaneurysm_alpha0.9  \\\n",
       "count              1151.000000             1151.000000   \n",
       "mean                 32.297133               28.747176   \n",
       "std                  21.114767               19.509227   \n",
       "min                   1.000000                1.000000   \n",
       "25%                  14.000000               11.000000   \n",
       "50%                  29.000000               25.000000   \n",
       "75%                  48.000000               43.000000   \n",
       "max                 105.000000               97.000000   \n",
       "\n",
       "       Microaneurysm_alpha1.0  Exudates_alpha0.1  Exudates_alpha0.2  \\\n",
       "count             1151.000000        1151.000000        1151.000000   \n",
       "mean                21.151173          64.096674          23.088012   \n",
       "std                 15.101560          58.485289          21.602696   \n",
       "min                  1.000000           0.349274           0.000000   \n",
       "25%                  8.000000          22.271597           7.939315   \n",
       "50%                 18.000000          44.249119          17.038020   \n",
       "75%                 32.000000          87.804112          31.305692   \n",
       "max                 89.000000         403.939108         167.131427   \n",
       "\n",
       "       Exudates_alpha0.3  Exudates_alpha0.4  Exudates_alpha0.5  \\\n",
       "count        1151.000000        1151.000000        1151.000000   \n",
       "mean            8.704610           1.836489           0.560738   \n",
       "std            11.567589           3.923224           2.484111   \n",
       "min             0.000000           0.000000           0.000000   \n",
       "25%             1.249050           0.081554           0.000000   \n",
       "50%             4.423472           0.484829           0.022248   \n",
       "75%            11.766880           1.921649           0.191953   \n",
       "max           106.070092          59.766121          51.423208   \n",
       "\n",
       "       Exudates_alpha0.6  Exudates_alpha0.7  Exudates_alpha0.8  \\\n",
       "count        1151.000000        1151.000000        1151.000000   \n",
       "mean            0.212290           0.085674           0.037225   \n",
       "std             1.057126           0.398717           0.178959   \n",
       "min             0.000000           0.000000           0.000000   \n",
       "25%             0.000000           0.000000           0.000000   \n",
       "50%             0.001554           0.000000           0.000000   \n",
       "75%             0.038450           0.004832           0.003851   \n",
       "max            20.098605           5.937799           3.086753   \n",
       "\n",
       "       Euclidean distance     Diameter  AM/FM Class  Class Label  \n",
       "count         1151.000000  1151.000000  1151.000000  1151.000000  \n",
       "mean             0.523212     0.108431     0.336229     0.530843  \n",
       "std              0.028055     0.017945     0.472624     0.499265  \n",
       "min              0.367762     0.057906     0.000000     0.000000  \n",
       "25%              0.502855     0.095799     0.000000     0.000000  \n",
       "50%              0.523308     0.106623     0.000000     1.000000  \n",
       "75%              0.543670     0.119591     1.000000     1.000000  \n",
       "max              0.592217     0.219199     1.000000     1.000000  "
      ]
     },
     "execution_count": 4,
     "metadata": {},
     "output_type": "execute_result"
    }
   ],
   "source": [
    "messidor.describe()"
   ]
  },
  {
   "cell_type": "code",
   "execution_count": 5,
   "metadata": {},
   "outputs": [
    {
     "data": {
      "text/plain": [
       "'\\nmessidor.hist(bins=50, figsize=(20,15))\\nplt.show()\\n'"
      ]
     },
     "execution_count": 5,
     "metadata": {},
     "output_type": "execute_result"
    }
   ],
   "source": [
    "%matplotlib inline\n",
    "'''\n",
    "messidor.hist(bins=50, figsize=(20,15))\n",
    "plt.show()\n",
    "'''"
   ]
  },
  {
   "cell_type": "code",
   "execution_count": 6,
   "metadata": {},
   "outputs": [
    {
     "data": {
      "text/plain": [
       "Microaneurysm_alpha1.0     1.000000\n",
       "Microaneurysm_alpha0.9     0.974577\n",
       "Microaneurysm _alpha0.8    0.947860\n",
       "Microaneurysm_alpha0.7     0.916198\n",
       "Microaneurysm_alpha0.6     0.883511\n",
       "Microaneurysm_alpha0.5     0.859620\n",
       "Class Label                0.127861\n",
       "Pre-screening              0.060152\n",
       "Quality                    0.031889\n",
       "Exudates_alpha0.8          0.031520\n",
       "Exudates_alpha0.7          0.006868\n",
       "Euclidean distance        -0.002557\n",
       "Diameter                  -0.011607\n",
       "Exudates_alpha0.6         -0.012175\n",
       "Exudates_alpha0.5         -0.012400\n",
       "Exudates_alpha0.4         -0.058153\n",
       "Exudates_alpha0.3         -0.181197\n",
       "Exudates_alpha0.2         -0.223681\n",
       "Exudates_alpha0.1         -0.375506\n",
       "AM/FM Class               -0.435127\n",
       "Name: Microaneurysm_alpha1.0, dtype: float64"
      ]
     },
     "execution_count": 6,
     "metadata": {},
     "output_type": "execute_result"
    }
   ],
   "source": [
    "corr_matrix = messidor.corr()\n",
    "corr_matrix[\"Microaneurysm_alpha1.0\"].sort_values(ascending=False)"
   ]
  },
  {
   "cell_type": "code",
   "execution_count": 7,
   "metadata": {},
   "outputs": [
    {
     "data": {
      "text/html": [
       "<div>\n",
       "<style scoped>\n",
       "    .dataframe tbody tr th:only-of-type {\n",
       "        vertical-align: middle;\n",
       "    }\n",
       "\n",
       "    .dataframe tbody tr th {\n",
       "        vertical-align: top;\n",
       "    }\n",
       "\n",
       "    .dataframe thead th {\n",
       "        text-align: right;\n",
       "    }\n",
       "</style>\n",
       "<table border=\"1\" class=\"dataframe\">\n",
       "  <thead>\n",
       "    <tr style=\"text-align: right;\">\n",
       "      <th></th>\n",
       "      <th>Quality</th>\n",
       "      <th>Pre-screening</th>\n",
       "      <th>Microaneurysm_alpha0.5</th>\n",
       "      <th>Microaneurysm_alpha0.6</th>\n",
       "      <th>Microaneurysm_alpha0.7</th>\n",
       "      <th>Microaneurysm _alpha0.8</th>\n",
       "      <th>Microaneurysm_alpha0.9</th>\n",
       "      <th>Microaneurysm_alpha1.0</th>\n",
       "      <th>Exudates_alpha0.1</th>\n",
       "      <th>Exudates_alpha0.2</th>\n",
       "      <th>Exudates_alpha0.3</th>\n",
       "      <th>Exudates_alpha0.4</th>\n",
       "      <th>Exudates_alpha0.5</th>\n",
       "      <th>Exudates_alpha0.6</th>\n",
       "      <th>Exudates_alpha0.7</th>\n",
       "      <th>Exudates_alpha0.8</th>\n",
       "      <th>Euclidean distance</th>\n",
       "      <th>Diameter</th>\n",
       "      <th>AM/FM Class</th>\n",
       "      <th>Class Label</th>\n",
       "    </tr>\n",
       "  </thead>\n",
       "  <tbody>\n",
       "    <tr>\n",
       "      <th>0</th>\n",
       "      <td>1</td>\n",
       "      <td>1</td>\n",
       "      <td>22</td>\n",
       "      <td>22</td>\n",
       "      <td>22</td>\n",
       "      <td>19</td>\n",
       "      <td>18</td>\n",
       "      <td>14</td>\n",
       "      <td>49.895756</td>\n",
       "      <td>17.775994</td>\n",
       "      <td>5.270920</td>\n",
       "      <td>0.771761</td>\n",
       "      <td>0.018632</td>\n",
       "      <td>0.006864</td>\n",
       "      <td>0.003923</td>\n",
       "      <td>0.003923</td>\n",
       "      <td>0.486903</td>\n",
       "      <td>0.100025</td>\n",
       "      <td>1</td>\n",
       "      <td>0</td>\n",
       "    </tr>\n",
       "    <tr>\n",
       "      <th>1</th>\n",
       "      <td>1</td>\n",
       "      <td>1</td>\n",
       "      <td>24</td>\n",
       "      <td>24</td>\n",
       "      <td>22</td>\n",
       "      <td>18</td>\n",
       "      <td>16</td>\n",
       "      <td>13</td>\n",
       "      <td>57.709936</td>\n",
       "      <td>23.799994</td>\n",
       "      <td>3.325423</td>\n",
       "      <td>0.234185</td>\n",
       "      <td>0.003903</td>\n",
       "      <td>0.003903</td>\n",
       "      <td>0.003903</td>\n",
       "      <td>0.003903</td>\n",
       "      <td>0.520908</td>\n",
       "      <td>0.144414</td>\n",
       "      <td>0</td>\n",
       "      <td>0</td>\n",
       "    </tr>\n",
       "    <tr>\n",
       "      <th>2</th>\n",
       "      <td>1</td>\n",
       "      <td>1</td>\n",
       "      <td>62</td>\n",
       "      <td>60</td>\n",
       "      <td>59</td>\n",
       "      <td>54</td>\n",
       "      <td>47</td>\n",
       "      <td>33</td>\n",
       "      <td>55.831441</td>\n",
       "      <td>27.993933</td>\n",
       "      <td>12.687485</td>\n",
       "      <td>4.852282</td>\n",
       "      <td>1.393889</td>\n",
       "      <td>0.373252</td>\n",
       "      <td>0.041817</td>\n",
       "      <td>0.007744</td>\n",
       "      <td>0.530904</td>\n",
       "      <td>0.128548</td>\n",
       "      <td>0</td>\n",
       "      <td>1</td>\n",
       "    </tr>\n",
       "    <tr>\n",
       "      <th>3</th>\n",
       "      <td>1</td>\n",
       "      <td>1</td>\n",
       "      <td>55</td>\n",
       "      <td>53</td>\n",
       "      <td>53</td>\n",
       "      <td>50</td>\n",
       "      <td>43</td>\n",
       "      <td>31</td>\n",
       "      <td>40.467228</td>\n",
       "      <td>18.445954</td>\n",
       "      <td>9.118901</td>\n",
       "      <td>3.079428</td>\n",
       "      <td>0.840261</td>\n",
       "      <td>0.272434</td>\n",
       "      <td>0.007653</td>\n",
       "      <td>0.001531</td>\n",
       "      <td>0.483284</td>\n",
       "      <td>0.114790</td>\n",
       "      <td>0</td>\n",
       "      <td>0</td>\n",
       "    </tr>\n",
       "    <tr>\n",
       "      <th>4</th>\n",
       "      <td>1</td>\n",
       "      <td>1</td>\n",
       "      <td>44</td>\n",
       "      <td>44</td>\n",
       "      <td>44</td>\n",
       "      <td>41</td>\n",
       "      <td>39</td>\n",
       "      <td>27</td>\n",
       "      <td>18.026254</td>\n",
       "      <td>8.570709</td>\n",
       "      <td>0.410381</td>\n",
       "      <td>0.000000</td>\n",
       "      <td>0.000000</td>\n",
       "      <td>0.000000</td>\n",
       "      <td>0.000000</td>\n",
       "      <td>0.000000</td>\n",
       "      <td>0.475935</td>\n",
       "      <td>0.123572</td>\n",
       "      <td>0</td>\n",
       "      <td>1</td>\n",
       "    </tr>\n",
       "  </tbody>\n",
       "</table>\n",
       "</div>"
      ],
      "text/plain": [
       "   Quality  Pre-screening  Microaneurysm_alpha0.5  Microaneurysm_alpha0.6  \\\n",
       "0        1              1                      22                      22   \n",
       "1        1              1                      24                      24   \n",
       "2        1              1                      62                      60   \n",
       "3        1              1                      55                      53   \n",
       "4        1              1                      44                      44   \n",
       "\n",
       "   Microaneurysm_alpha0.7  Microaneurysm _alpha0.8  Microaneurysm_alpha0.9  \\\n",
       "0                      22                       19                      18   \n",
       "1                      22                       18                      16   \n",
       "2                      59                       54                      47   \n",
       "3                      53                       50                      43   \n",
       "4                      44                       41                      39   \n",
       "\n",
       "   Microaneurysm_alpha1.0  Exudates_alpha0.1  Exudates_alpha0.2  \\\n",
       "0                      14          49.895756          17.775994   \n",
       "1                      13          57.709936          23.799994   \n",
       "2                      33          55.831441          27.993933   \n",
       "3                      31          40.467228          18.445954   \n",
       "4                      27          18.026254           8.570709   \n",
       "\n",
       "   Exudates_alpha0.3  Exudates_alpha0.4  Exudates_alpha0.5  Exudates_alpha0.6  \\\n",
       "0           5.270920           0.771761           0.018632           0.006864   \n",
       "1           3.325423           0.234185           0.003903           0.003903   \n",
       "2          12.687485           4.852282           1.393889           0.373252   \n",
       "3           9.118901           3.079428           0.840261           0.272434   \n",
       "4           0.410381           0.000000           0.000000           0.000000   \n",
       "\n",
       "   Exudates_alpha0.7  Exudates_alpha0.8  Euclidean distance  Diameter  \\\n",
       "0           0.003923           0.003923            0.486903  0.100025   \n",
       "1           0.003903           0.003903            0.520908  0.144414   \n",
       "2           0.041817           0.007744            0.530904  0.128548   \n",
       "3           0.007653           0.001531            0.483284  0.114790   \n",
       "4           0.000000           0.000000            0.475935  0.123572   \n",
       "\n",
       "   AM/FM Class  Class Label  \n",
       "0            1            0  \n",
       "1            0            0  \n",
       "2            0            1  \n",
       "3            0            0  \n",
       "4            0            1  "
      ]
     },
     "execution_count": 7,
     "metadata": {},
     "output_type": "execute_result"
    }
   ],
   "source": [
    "messidor.head()"
   ]
  },
  {
   "cell_type": "code",
   "execution_count": 8,
   "metadata": {},
   "outputs": [],
   "source": [
    "messidor_revised = messidor"
   ]
  },
  {
   "cell_type": "code",
   "execution_count": 9,
   "metadata": {},
   "outputs": [],
   "source": [
    "messidor_revised[\"Microaneurysms_average\"] = np.ceil((messidor_revised[\"Microaneurysm_alpha0.5\"] + messidor_revised[\"Microaneurysm_alpha0.6\"] +\n",
    "                                             messidor_revised[\"Microaneurysm_alpha0.7\"] + messidor_revised[\"Microaneurysm _alpha0.8\"] +\n",
    "                                             messidor_revised[\"Microaneurysm_alpha0.9\"] + messidor_revised[\"Microaneurysm_alpha1.0\"])/6)"
   ]
  },
  {
   "cell_type": "markdown",
   "metadata": {},
   "source": []
  },
  {
   "cell_type": "markdown",
   "metadata": {},
   "source": [
    "Using Original Messidor dataset"
   ]
  },
  {
   "cell_type": "code",
   "execution_count": 43,
   "metadata": {},
   "outputs": [],
   "source": [
    "from sklearn.model_selection import train_test_split\n",
    "train_set, test_set = train_test_split(messidor, test_size=0.25, random_state=21)"
   ]
  },
  {
   "cell_type": "code",
   "execution_count": 44,
   "metadata": {},
   "outputs": [],
   "source": [
    "train_set2 = train_set.copy()\n",
    "test_set2 = test_set.copy()\n",
    "y_train = train_set[\"Class Label\"].copy()\n",
    "y_test = test_set[\"Class Label\"].copy()"
   ]
  },
  {
   "cell_type": "code",
   "execution_count": 45,
   "metadata": {},
   "outputs": [],
   "source": [
    "train_set = train_set.drop(\"Quality\", axis=1)\n",
    "train_set = train_set.drop(\"Pre-screening\", axis=1)\n",
    "test_set = test_set.drop(\"Quality\", axis=1)\n",
    "test_set = test_set.drop(\"Pre-screening\", axis=1)\n",
    "AM_class_train = train_set[\"AM/FM Class\"].copy()\n",
    "AM_class_test =  test_set[\"AM/FM Class\"].copy()"
   ]
  },
  {
   "cell_type": "code",
   "execution_count": 46,
   "metadata": {},
   "outputs": [],
   "source": [
    "train_set = train_set.drop(\"AM/FM Class\", axis=1)\n",
    "test_set = test_set.drop(\"AM/FM Class\", axis=1)"
   ]
  },
  {
   "cell_type": "code",
   "execution_count": 47,
   "metadata": {},
   "outputs": [],
   "source": [
    "train_set = train_set.drop(\"Class Label\", axis=1)\n",
    "test_set = test_set.drop(\"Class Label\", axis=1)"
   ]
  },
  {
   "cell_type": "code",
   "execution_count": 48,
   "metadata": {},
   "outputs": [
    {
     "data": {
      "text/html": [
       "<div>\n",
       "<style scoped>\n",
       "    .dataframe tbody tr th:only-of-type {\n",
       "        vertical-align: middle;\n",
       "    }\n",
       "\n",
       "    .dataframe tbody tr th {\n",
       "        vertical-align: top;\n",
       "    }\n",
       "\n",
       "    .dataframe thead th {\n",
       "        text-align: right;\n",
       "    }\n",
       "</style>\n",
       "<table border=\"1\" class=\"dataframe\">\n",
       "  <thead>\n",
       "    <tr style=\"text-align: right;\">\n",
       "      <th></th>\n",
       "      <th>Microaneurysm_alpha0.5</th>\n",
       "      <th>Microaneurysm_alpha0.6</th>\n",
       "      <th>Microaneurysm_alpha0.7</th>\n",
       "      <th>Microaneurysm _alpha0.8</th>\n",
       "      <th>Microaneurysm_alpha0.9</th>\n",
       "      <th>Microaneurysm_alpha1.0</th>\n",
       "      <th>Exudates_alpha0.1</th>\n",
       "      <th>Exudates_alpha0.2</th>\n",
       "      <th>Exudates_alpha0.3</th>\n",
       "      <th>Exudates_alpha0.4</th>\n",
       "      <th>Exudates_alpha0.5</th>\n",
       "      <th>Exudates_alpha0.6</th>\n",
       "      <th>Exudates_alpha0.7</th>\n",
       "      <th>Exudates_alpha0.8</th>\n",
       "      <th>Euclidean distance</th>\n",
       "      <th>Diameter</th>\n",
       "      <th>Microaneurysms_average</th>\n",
       "    </tr>\n",
       "  </thead>\n",
       "  <tbody>\n",
       "    <tr>\n",
       "      <th>356</th>\n",
       "      <td>15</td>\n",
       "      <td>13</td>\n",
       "      <td>13</td>\n",
       "      <td>12</td>\n",
       "      <td>9</td>\n",
       "      <td>6</td>\n",
       "      <td>39.305552</td>\n",
       "      <td>15.394691</td>\n",
       "      <td>7.490443</td>\n",
       "      <td>0.118090</td>\n",
       "      <td>0.001952</td>\n",
       "      <td>0.000000</td>\n",
       "      <td>0.000000</td>\n",
       "      <td>0.000000</td>\n",
       "      <td>0.577617</td>\n",
       "      <td>0.096619</td>\n",
       "      <td>12.0</td>\n",
       "    </tr>\n",
       "    <tr>\n",
       "      <th>196</th>\n",
       "      <td>73</td>\n",
       "      <td>67</td>\n",
       "      <td>64</td>\n",
       "      <td>59</td>\n",
       "      <td>51</td>\n",
       "      <td>37</td>\n",
       "      <td>32.804211</td>\n",
       "      <td>12.143579</td>\n",
       "      <td>5.871082</td>\n",
       "      <td>0.726225</td>\n",
       "      <td>0.212965</td>\n",
       "      <td>0.021450</td>\n",
       "      <td>0.019918</td>\n",
       "      <td>0.016853</td>\n",
       "      <td>0.517979</td>\n",
       "      <td>0.094991</td>\n",
       "      <td>59.0</td>\n",
       "    </tr>\n",
       "    <tr>\n",
       "      <th>507</th>\n",
       "      <td>49</td>\n",
       "      <td>47</td>\n",
       "      <td>46</td>\n",
       "      <td>41</td>\n",
       "      <td>34</td>\n",
       "      <td>22</td>\n",
       "      <td>151.742425</td>\n",
       "      <td>72.263727</td>\n",
       "      <td>39.775490</td>\n",
       "      <td>8.511975</td>\n",
       "      <td>0.772705</td>\n",
       "      <td>0.064138</td>\n",
       "      <td>0.013235</td>\n",
       "      <td>0.005090</td>\n",
       "      <td>0.497997</td>\n",
       "      <td>0.126239</td>\n",
       "      <td>40.0</td>\n",
       "    </tr>\n",
       "    <tr>\n",
       "      <th>920</th>\n",
       "      <td>49</td>\n",
       "      <td>49</td>\n",
       "      <td>47</td>\n",
       "      <td>45</td>\n",
       "      <td>43</td>\n",
       "      <td>33</td>\n",
       "      <td>16.249863</td>\n",
       "      <td>7.055083</td>\n",
       "      <td>0.570479</td>\n",
       "      <td>0.000000</td>\n",
       "      <td>0.000000</td>\n",
       "      <td>0.000000</td>\n",
       "      <td>0.000000</td>\n",
       "      <td>0.000000</td>\n",
       "      <td>0.520964</td>\n",
       "      <td>0.129436</td>\n",
       "      <td>45.0</td>\n",
       "    </tr>\n",
       "    <tr>\n",
       "      <th>242</th>\n",
       "      <td>74</td>\n",
       "      <td>68</td>\n",
       "      <td>64</td>\n",
       "      <td>47</td>\n",
       "      <td>33</td>\n",
       "      <td>23</td>\n",
       "      <td>31.972796</td>\n",
       "      <td>15.065260</td>\n",
       "      <td>1.679252</td>\n",
       "      <td>0.775116</td>\n",
       "      <td>0.484073</td>\n",
       "      <td>0.322048</td>\n",
       "      <td>0.201030</td>\n",
       "      <td>0.037006</td>\n",
       "      <td>0.512147</td>\n",
       "      <td>0.091014</td>\n",
       "      <td>52.0</td>\n",
       "    </tr>\n",
       "  </tbody>\n",
       "</table>\n",
       "</div>"
      ],
      "text/plain": [
       "     Microaneurysm_alpha0.5  Microaneurysm_alpha0.6  Microaneurysm_alpha0.7  \\\n",
       "356                      15                      13                      13   \n",
       "196                      73                      67                      64   \n",
       "507                      49                      47                      46   \n",
       "920                      49                      49                      47   \n",
       "242                      74                      68                      64   \n",
       "\n",
       "     Microaneurysm _alpha0.8  Microaneurysm_alpha0.9  Microaneurysm_alpha1.0  \\\n",
       "356                       12                       9                       6   \n",
       "196                       59                      51                      37   \n",
       "507                       41                      34                      22   \n",
       "920                       45                      43                      33   \n",
       "242                       47                      33                      23   \n",
       "\n",
       "     Exudates_alpha0.1  Exudates_alpha0.2  Exudates_alpha0.3  \\\n",
       "356          39.305552          15.394691           7.490443   \n",
       "196          32.804211          12.143579           5.871082   \n",
       "507         151.742425          72.263727          39.775490   \n",
       "920          16.249863           7.055083           0.570479   \n",
       "242          31.972796          15.065260           1.679252   \n",
       "\n",
       "     Exudates_alpha0.4  Exudates_alpha0.5  Exudates_alpha0.6  \\\n",
       "356           0.118090           0.001952           0.000000   \n",
       "196           0.726225           0.212965           0.021450   \n",
       "507           8.511975           0.772705           0.064138   \n",
       "920           0.000000           0.000000           0.000000   \n",
       "242           0.775116           0.484073           0.322048   \n",
       "\n",
       "     Exudates_alpha0.7  Exudates_alpha0.8  Euclidean distance  Diameter  \\\n",
       "356           0.000000           0.000000            0.577617  0.096619   \n",
       "196           0.019918           0.016853            0.517979  0.094991   \n",
       "507           0.013235           0.005090            0.497997  0.126239   \n",
       "920           0.000000           0.000000            0.520964  0.129436   \n",
       "242           0.201030           0.037006            0.512147  0.091014   \n",
       "\n",
       "     Microaneurysms_average  \n",
       "356                    12.0  \n",
       "196                    59.0  \n",
       "507                    40.0  \n",
       "920                    45.0  \n",
       "242                    52.0  "
      ]
     },
     "execution_count": 48,
     "metadata": {},
     "output_type": "execute_result"
    }
   ],
   "source": [
    "test_set.head()"
   ]
  },
  {
   "cell_type": "code",
   "execution_count": 49,
   "metadata": {},
   "outputs": [],
   "source": [
    "from sklearn.preprocessing import StandardScaler\n",
    "std_scaler = StandardScaler()\n",
    "train_set_scaled = std_scaler.fit_transform(train_set)\n",
    "test_set_scaled = std_scaler.fit_transform(test_set)"
   ]
  },
  {
   "cell_type": "code",
   "execution_count": 50,
   "metadata": {},
   "outputs": [
    {
     "name": "stdout",
     "output_type": "stream",
     "text": [
      "Fitting 10 folds for each of 20 candidates, totalling 200 fits\n",
      "[CV] kernel=rbf, gamma=0.03, C=1 .....................................\n",
      "[CV] ...................... kernel=rbf, gamma=0.03, C=1, total=   0.0s\n",
      "[CV] kernel=rbf, gamma=0.03, C=1 .....................................\n",
      "[CV] ...................... kernel=rbf, gamma=0.03, C=1, total=   0.0s\n",
      "[CV] kernel=rbf, gamma=0.03, C=1 .....................................\n",
      "[CV] ...................... kernel=rbf, gamma=0.03, C=1, total=   0.0s\n",
      "[CV] kernel=rbf, gamma=0.03, C=1 .....................................\n",
      "[CV] ...................... kernel=rbf, gamma=0.03, C=1, total=   0.0s\n",
      "[CV] kernel=rbf, gamma=0.03, C=1 .....................................\n",
      "[CV] ...................... kernel=rbf, gamma=0.03, C=1, total=   0.0s\n",
      "[CV] kernel=rbf, gamma=0.03, C=1 .....................................\n",
      "[CV] ...................... kernel=rbf, gamma=0.03, C=1, total=   0.0s\n",
      "[CV] kernel=rbf, gamma=0.03, C=1 .....................................\n"
     ]
    },
    {
     "name": "stderr",
     "output_type": "stream",
     "text": [
      "[Parallel(n_jobs=1)]: Done   1 out of   1 | elapsed:    0.0s remaining:    0.0s\n"
     ]
    },
    {
     "name": "stdout",
     "output_type": "stream",
     "text": [
      "[CV] ...................... kernel=rbf, gamma=0.03, C=1, total=   0.0s\n",
      "[CV] kernel=rbf, gamma=0.03, C=1 .....................................\n",
      "[CV] ...................... kernel=rbf, gamma=0.03, C=1, total=   0.0s\n",
      "[CV] kernel=rbf, gamma=0.03, C=1 .....................................\n",
      "[CV] ...................... kernel=rbf, gamma=0.03, C=1, total=   0.0s\n",
      "[CV] kernel=rbf, gamma=0.03, C=1 .....................................\n",
      "[CV] ...................... kernel=rbf, gamma=0.03, C=1, total=   0.0s\n",
      "[CV] kernel=linear, gamma=0.03, C=100 ................................\n",
      "[CV] ................. kernel=linear, gamma=0.03, C=100, total=   0.4s\n",
      "[CV] kernel=linear, gamma=0.03, C=100 ................................\n",
      "[CV] ................. kernel=linear, gamma=0.03, C=100, total=   0.4s\n",
      "[CV] kernel=linear, gamma=0.03, C=100 ................................\n",
      "[CV] ................. kernel=linear, gamma=0.03, C=100, total=   0.3s\n",
      "[CV] kernel=linear, gamma=0.03, C=100 ................................\n",
      "[CV] ................. kernel=linear, gamma=0.03, C=100, total=   0.5s\n",
      "[CV] kernel=linear, gamma=0.03, C=100 ................................\n",
      "[CV] ................. kernel=linear, gamma=0.03, C=100, total=   0.7s\n",
      "[CV] kernel=linear, gamma=0.03, C=100 ................................\n",
      "[CV] ................. kernel=linear, gamma=0.03, C=100, total=   0.3s\n",
      "[CV] kernel=linear, gamma=0.03, C=100 ................................\n",
      "[CV] ................. kernel=linear, gamma=0.03, C=100, total=   0.5s\n",
      "[CV] kernel=linear, gamma=0.03, C=100 ................................\n",
      "[CV] ................. kernel=linear, gamma=0.03, C=100, total=   0.3s\n",
      "[CV] kernel=linear, gamma=0.03, C=100 ................................\n",
      "[CV] ................. kernel=linear, gamma=0.03, C=100, total=   0.5s\n",
      "[CV] kernel=linear, gamma=0.03, C=100 ................................\n",
      "[CV] ................. kernel=linear, gamma=0.03, C=100, total=   0.4s\n",
      "[CV] kernel=rbf, gamma=0.01, C=100 ...................................\n",
      "[CV] .................... kernel=rbf, gamma=0.01, C=100, total=   0.0s\n",
      "[CV] kernel=rbf, gamma=0.01, C=100 ...................................\n",
      "[CV] .................... kernel=rbf, gamma=0.01, C=100, total=   0.0s\n",
      "[CV] kernel=rbf, gamma=0.01, C=100 ...................................\n",
      "[CV] .................... kernel=rbf, gamma=0.01, C=100, total=   0.0s\n",
      "[CV] kernel=rbf, gamma=0.01, C=100 ...................................\n",
      "[CV] .................... kernel=rbf, gamma=0.01, C=100, total=   0.0s\n",
      "[CV] kernel=rbf, gamma=0.01, C=100 ...................................\n",
      "[CV] .................... kernel=rbf, gamma=0.01, C=100, total=   0.0s\n",
      "[CV] kernel=rbf, gamma=0.01, C=100 ...................................\n",
      "[CV] .................... kernel=rbf, gamma=0.01, C=100, total=   0.0s\n",
      "[CV] kernel=rbf, gamma=0.01, C=100 ...................................\n",
      "[CV] .................... kernel=rbf, gamma=0.01, C=100, total=   0.0s\n",
      "[CV] kernel=rbf, gamma=0.01, C=100 ...................................\n",
      "[CV] .................... kernel=rbf, gamma=0.01, C=100, total=   0.0s\n",
      "[CV] kernel=rbf, gamma=0.01, C=100 ...................................\n",
      "[CV] .................... kernel=rbf, gamma=0.01, C=100, total=   0.0s\n",
      "[CV] kernel=rbf, gamma=0.01, C=100 ...................................\n",
      "[CV] .................... kernel=rbf, gamma=0.01, C=100, total=   0.0s\n",
      "[CV] kernel=rbf, gamma=0.001, C=100 ..................................\n",
      "[CV] ................... kernel=rbf, gamma=0.001, C=100, total=   0.0s\n",
      "[CV] kernel=rbf, gamma=0.001, C=100 ..................................\n",
      "[CV] ................... kernel=rbf, gamma=0.001, C=100, total=   0.0s\n",
      "[CV] kernel=rbf, gamma=0.001, C=100 ..................................\n",
      "[CV] ................... kernel=rbf, gamma=0.001, C=100, total=   0.0s\n",
      "[CV] kernel=rbf, gamma=0.001, C=100 ..................................\n",
      "[CV] ................... kernel=rbf, gamma=0.001, C=100, total=   0.0s\n",
      "[CV] kernel=rbf, gamma=0.001, C=100 ..................................\n",
      "[CV] ................... kernel=rbf, gamma=0.001, C=100, total=   0.0s\n",
      "[CV] kernel=rbf, gamma=0.001, C=100 ..................................\n",
      "[CV] ................... kernel=rbf, gamma=0.001, C=100, total=   0.0s\n",
      "[CV] kernel=rbf, gamma=0.001, C=100 ..................................\n",
      "[CV] ................... kernel=rbf, gamma=0.001, C=100, total=   0.0s\n",
      "[CV] kernel=rbf, gamma=0.001, C=100 ..................................\n",
      "[CV] ................... kernel=rbf, gamma=0.001, C=100, total=   0.0s\n",
      "[CV] kernel=rbf, gamma=0.001, C=100 ..................................\n",
      "[CV] ................... kernel=rbf, gamma=0.001, C=100, total=   0.0s\n",
      "[CV] kernel=rbf, gamma=0.001, C=100 ..................................\n",
      "[CV] ................... kernel=rbf, gamma=0.001, C=100, total=   0.0s\n",
      "[CV] kernel=linear, gamma=0.1, C=10 ..................................\n",
      "[CV] ................... kernel=linear, gamma=0.1, C=10, total=   0.0s\n",
      "[CV] kernel=linear, gamma=0.1, C=10 ..................................\n",
      "[CV] ................... kernel=linear, gamma=0.1, C=10, total=   0.0s\n",
      "[CV] kernel=linear, gamma=0.1, C=10 ..................................\n",
      "[CV] ................... kernel=linear, gamma=0.1, C=10, total=   0.0s\n",
      "[CV] kernel=linear, gamma=0.1, C=10 ..................................\n",
      "[CV] ................... kernel=linear, gamma=0.1, C=10, total=   0.0s\n",
      "[CV] kernel=linear, gamma=0.1, C=10 ..................................\n",
      "[CV] ................... kernel=linear, gamma=0.1, C=10, total=   0.0s\n",
      "[CV] kernel=linear, gamma=0.1, C=10 ..................................\n",
      "[CV] ................... kernel=linear, gamma=0.1, C=10, total=   0.0s\n",
      "[CV] kernel=linear, gamma=0.1, C=10 ..................................\n",
      "[CV] ................... kernel=linear, gamma=0.1, C=10, total=   0.0s\n",
      "[CV] kernel=linear, gamma=0.1, C=10 ..................................\n",
      "[CV] ................... kernel=linear, gamma=0.1, C=10, total=   0.0s\n",
      "[CV] kernel=linear, gamma=0.1, C=10 ..................................\n",
      "[CV] ................... kernel=linear, gamma=0.1, C=10, total=   0.0s\n",
      "[CV] kernel=linear, gamma=0.1, C=10 ..................................\n",
      "[CV] ................... kernel=linear, gamma=0.1, C=10, total=   0.0s\n",
      "[CV] kernel=linear, gamma=0.1, C=1 ...................................\n",
      "[CV] .................... kernel=linear, gamma=0.1, C=1, total=   0.0s\n",
      "[CV] kernel=linear, gamma=0.1, C=1 ...................................\n",
      "[CV] .................... kernel=linear, gamma=0.1, C=1, total=   0.0s\n",
      "[CV] kernel=linear, gamma=0.1, C=1 ...................................\n",
      "[CV] .................... kernel=linear, gamma=0.1, C=1, total=   0.0s\n",
      "[CV] kernel=linear, gamma=0.1, C=1 ...................................\n",
      "[CV] .................... kernel=linear, gamma=0.1, C=1, total=   0.0s\n",
      "[CV] kernel=linear, gamma=0.1, C=1 ...................................\n",
      "[CV] .................... kernel=linear, gamma=0.1, C=1, total=   0.0s\n",
      "[CV] kernel=linear, gamma=0.1, C=1 ...................................\n",
      "[CV] .................... kernel=linear, gamma=0.1, C=1, total=   0.0s\n",
      "[CV] kernel=linear, gamma=0.1, C=1 ...................................\n",
      "[CV] .................... kernel=linear, gamma=0.1, C=1, total=   0.0s\n",
      "[CV] kernel=linear, gamma=0.1, C=1 ...................................\n",
      "[CV] .................... kernel=linear, gamma=0.1, C=1, total=   0.0s\n",
      "[CV] kernel=linear, gamma=0.1, C=1 ...................................\n",
      "[CV] .................... kernel=linear, gamma=0.1, C=1, total=   0.0s\n",
      "[CV] kernel=linear, gamma=0.1, C=1 ...................................\n",
      "[CV] .................... kernel=linear, gamma=0.1, C=1, total=   0.0s\n",
      "[CV] kernel=rbf, gamma=3.0, C=10 .....................................\n",
      "[CV] ...................... kernel=rbf, gamma=3.0, C=10, total=   0.0s\n",
      "[CV] kernel=rbf, gamma=3.0, C=10 .....................................\n",
      "[CV] ...................... kernel=rbf, gamma=3.0, C=10, total=   0.0s\n",
      "[CV] kernel=rbf, gamma=3.0, C=10 .....................................\n",
      "[CV] ...................... kernel=rbf, gamma=3.0, C=10, total=   0.0s\n",
      "[CV] kernel=rbf, gamma=3.0, C=10 .....................................\n",
      "[CV] ...................... kernel=rbf, gamma=3.0, C=10, total=   0.0s\n",
      "[CV] kernel=rbf, gamma=3.0, C=10 .....................................\n",
      "[CV] ...................... kernel=rbf, gamma=3.0, C=10, total=   0.0s\n",
      "[CV] kernel=rbf, gamma=3.0, C=10 .....................................\n",
      "[CV] ...................... kernel=rbf, gamma=3.0, C=10, total=   0.0s\n",
      "[CV] kernel=rbf, gamma=3.0, C=10 .....................................\n",
      "[CV] ...................... kernel=rbf, gamma=3.0, C=10, total=   0.0s\n",
      "[CV] kernel=rbf, gamma=3.0, C=10 .....................................\n",
      "[CV] ...................... kernel=rbf, gamma=3.0, C=10, total=   0.0s\n",
      "[CV] kernel=rbf, gamma=3.0, C=10 .....................................\n"
     ]
    },
    {
     "name": "stdout",
     "output_type": "stream",
     "text": [
      "[CV] ...................... kernel=rbf, gamma=3.0, C=10, total=   0.0s\n",
      "[CV] kernel=rbf, gamma=3.0, C=10 .....................................\n",
      "[CV] ...................... kernel=rbf, gamma=3.0, C=10, total=   0.0s\n",
      "[CV] kernel=linear, gamma=0.03, C=100 ................................\n",
      "[CV] ................. kernel=linear, gamma=0.03, C=100, total=   0.4s\n",
      "[CV] kernel=linear, gamma=0.03, C=100 ................................\n",
      "[CV] ................. kernel=linear, gamma=0.03, C=100, total=   0.4s\n",
      "[CV] kernel=linear, gamma=0.03, C=100 ................................\n",
      "[CV] ................. kernel=linear, gamma=0.03, C=100, total=   0.3s\n",
      "[CV] kernel=linear, gamma=0.03, C=100 ................................\n",
      "[CV] ................. kernel=linear, gamma=0.03, C=100, total=   0.5s\n",
      "[CV] kernel=linear, gamma=0.03, C=100 ................................\n",
      "[CV] ................. kernel=linear, gamma=0.03, C=100, total=   0.7s\n",
      "[CV] kernel=linear, gamma=0.03, C=100 ................................\n",
      "[CV] ................. kernel=linear, gamma=0.03, C=100, total=   0.4s\n",
      "[CV] kernel=linear, gamma=0.03, C=100 ................................\n",
      "[CV] ................. kernel=linear, gamma=0.03, C=100, total=   0.5s\n",
      "[CV] kernel=linear, gamma=0.03, C=100 ................................\n",
      "[CV] ................. kernel=linear, gamma=0.03, C=100, total=   0.3s\n",
      "[CV] kernel=linear, gamma=0.03, C=100 ................................\n",
      "[CV] ................. kernel=linear, gamma=0.03, C=100, total=   0.5s\n",
      "[CV] kernel=linear, gamma=0.03, C=100 ................................\n",
      "[CV] ................. kernel=linear, gamma=0.03, C=100, total=   0.4s\n",
      "[CV] kernel=rbf, gamma=0.01, C=10 ....................................\n",
      "[CV] ..................... kernel=rbf, gamma=0.01, C=10, total=   0.0s\n",
      "[CV] kernel=rbf, gamma=0.01, C=10 ....................................\n",
      "[CV] ..................... kernel=rbf, gamma=0.01, C=10, total=   0.0s\n",
      "[CV] kernel=rbf, gamma=0.01, C=10 ....................................\n",
      "[CV] ..................... kernel=rbf, gamma=0.01, C=10, total=   0.0s\n",
      "[CV] kernel=rbf, gamma=0.01, C=10 ....................................\n",
      "[CV] ..................... kernel=rbf, gamma=0.01, C=10, total=   0.0s\n",
      "[CV] kernel=rbf, gamma=0.01, C=10 ....................................\n",
      "[CV] ..................... kernel=rbf, gamma=0.01, C=10, total=   0.0s\n",
      "[CV] kernel=rbf, gamma=0.01, C=10 ....................................\n",
      "[CV] ..................... kernel=rbf, gamma=0.01, C=10, total=   0.0s\n",
      "[CV] kernel=rbf, gamma=0.01, C=10 ....................................\n",
      "[CV] ..................... kernel=rbf, gamma=0.01, C=10, total=   0.0s\n",
      "[CV] kernel=rbf, gamma=0.01, C=10 ....................................\n",
      "[CV] ..................... kernel=rbf, gamma=0.01, C=10, total=   0.0s\n",
      "[CV] kernel=rbf, gamma=0.01, C=10 ....................................\n",
      "[CV] ..................... kernel=rbf, gamma=0.01, C=10, total=   0.0s\n",
      "[CV] kernel=rbf, gamma=0.01, C=10 ....................................\n",
      "[CV] ..................... kernel=rbf, gamma=0.01, C=10, total=   0.0s\n",
      "[CV] kernel=rbf, gamma=1.0, C=100 ....................................\n",
      "[CV] ..................... kernel=rbf, gamma=1.0, C=100, total=   0.0s\n",
      "[CV] kernel=rbf, gamma=1.0, C=100 ....................................\n",
      "[CV] ..................... kernel=rbf, gamma=1.0, C=100, total=   0.0s\n",
      "[CV] kernel=rbf, gamma=1.0, C=100 ....................................\n",
      "[CV] ..................... kernel=rbf, gamma=1.0, C=100, total=   0.0s\n",
      "[CV] kernel=rbf, gamma=1.0, C=100 ....................................\n",
      "[CV] ..................... kernel=rbf, gamma=1.0, C=100, total=   0.0s\n",
      "[CV] kernel=rbf, gamma=1.0, C=100 ....................................\n",
      "[CV] ..................... kernel=rbf, gamma=1.0, C=100, total=   0.0s\n",
      "[CV] kernel=rbf, gamma=1.0, C=100 ....................................\n",
      "[CV] ..................... kernel=rbf, gamma=1.0, C=100, total=   0.0s\n",
      "[CV] kernel=rbf, gamma=1.0, C=100 ....................................\n",
      "[CV] ..................... kernel=rbf, gamma=1.0, C=100, total=   0.0s\n",
      "[CV] kernel=rbf, gamma=1.0, C=100 ....................................\n",
      "[CV] ..................... kernel=rbf, gamma=1.0, C=100, total=   0.0s\n",
      "[CV] kernel=rbf, gamma=1.0, C=100 ....................................\n",
      "[CV] ..................... kernel=rbf, gamma=1.0, C=100, total=   0.0s\n",
      "[CV] kernel=rbf, gamma=1.0, C=100 ....................................\n",
      "[CV] ..................... kernel=rbf, gamma=1.0, C=100, total=   0.0s\n",
      "[CV] kernel=rbf, gamma=0.01, C=100 ...................................\n",
      "[CV] .................... kernel=rbf, gamma=0.01, C=100, total=   0.0s\n",
      "[CV] kernel=rbf, gamma=0.01, C=100 ...................................\n",
      "[CV] .................... kernel=rbf, gamma=0.01, C=100, total=   0.0s\n",
      "[CV] kernel=rbf, gamma=0.01, C=100 ...................................\n",
      "[CV] .................... kernel=rbf, gamma=0.01, C=100, total=   0.0s\n",
      "[CV] kernel=rbf, gamma=0.01, C=100 ...................................\n",
      "[CV] .................... kernel=rbf, gamma=0.01, C=100, total=   0.0s\n",
      "[CV] kernel=rbf, gamma=0.01, C=100 ...................................\n",
      "[CV] .................... kernel=rbf, gamma=0.01, C=100, total=   0.0s\n",
      "[CV] kernel=rbf, gamma=0.01, C=100 ...................................\n",
      "[CV] .................... kernel=rbf, gamma=0.01, C=100, total=   0.0s\n",
      "[CV] kernel=rbf, gamma=0.01, C=100 ...................................\n",
      "[CV] .................... kernel=rbf, gamma=0.01, C=100, total=   0.0s\n",
      "[CV] kernel=rbf, gamma=0.01, C=100 ...................................\n",
      "[CV] .................... kernel=rbf, gamma=0.01, C=100, total=   0.0s\n",
      "[CV] kernel=rbf, gamma=0.01, C=100 ...................................\n",
      "[CV] .................... kernel=rbf, gamma=0.01, C=100, total=   0.0s\n",
      "[CV] kernel=rbf, gamma=0.01, C=100 ...................................\n",
      "[CV] .................... kernel=rbf, gamma=0.01, C=100, total=   0.0s\n",
      "[CV] kernel=rbf, gamma=1.0, C=10 .....................................\n",
      "[CV] ...................... kernel=rbf, gamma=1.0, C=10, total=   0.0s\n",
      "[CV] kernel=rbf, gamma=1.0, C=10 .....................................\n",
      "[CV] ...................... kernel=rbf, gamma=1.0, C=10, total=   0.0s\n",
      "[CV] kernel=rbf, gamma=1.0, C=10 .....................................\n",
      "[CV] ...................... kernel=rbf, gamma=1.0, C=10, total=   0.0s\n",
      "[CV] kernel=rbf, gamma=1.0, C=10 .....................................\n",
      "[CV] ...................... kernel=rbf, gamma=1.0, C=10, total=   0.0s\n",
      "[CV] kernel=rbf, gamma=1.0, C=10 .....................................\n",
      "[CV] ...................... kernel=rbf, gamma=1.0, C=10, total=   0.0s\n",
      "[CV] kernel=rbf, gamma=1.0, C=10 .....................................\n",
      "[CV] ...................... kernel=rbf, gamma=1.0, C=10, total=   0.0s\n",
      "[CV] kernel=rbf, gamma=1.0, C=10 .....................................\n",
      "[CV] ...................... kernel=rbf, gamma=1.0, C=10, total=   0.0s\n",
      "[CV] kernel=rbf, gamma=1.0, C=10 .....................................\n",
      "[CV] ...................... kernel=rbf, gamma=1.0, C=10, total=   0.0s\n",
      "[CV] kernel=rbf, gamma=1.0, C=10 .....................................\n",
      "[CV] ...................... kernel=rbf, gamma=1.0, C=10, total=   0.0s\n",
      "[CV] kernel=rbf, gamma=1.0, C=10 .....................................\n",
      "[CV] ...................... kernel=rbf, gamma=1.0, C=10, total=   0.0s\n",
      "[CV] kernel=rbf, gamma=0.03, C=10 ....................................\n",
      "[CV] ..................... kernel=rbf, gamma=0.03, C=10, total=   0.0s\n",
      "[CV] kernel=rbf, gamma=0.03, C=10 ....................................\n",
      "[CV] ..................... kernel=rbf, gamma=0.03, C=10, total=   0.0s\n",
      "[CV] kernel=rbf, gamma=0.03, C=10 ....................................\n",
      "[CV] ..................... kernel=rbf, gamma=0.03, C=10, total=   0.0s\n",
      "[CV] kernel=rbf, gamma=0.03, C=10 ....................................\n",
      "[CV] ..................... kernel=rbf, gamma=0.03, C=10, total=   0.0s\n",
      "[CV] kernel=rbf, gamma=0.03, C=10 ....................................\n",
      "[CV] ..................... kernel=rbf, gamma=0.03, C=10, total=   0.0s\n",
      "[CV] kernel=rbf, gamma=0.03, C=10 ....................................\n",
      "[CV] ..................... kernel=rbf, gamma=0.03, C=10, total=   0.0s\n",
      "[CV] kernel=rbf, gamma=0.03, C=10 ....................................\n",
      "[CV] ..................... kernel=rbf, gamma=0.03, C=10, total=   0.0s\n",
      "[CV] kernel=rbf, gamma=0.03, C=10 ....................................\n"
     ]
    },
    {
     "name": "stdout",
     "output_type": "stream",
     "text": [
      "[CV] ..................... kernel=rbf, gamma=0.03, C=10, total=   0.0s\n",
      "[CV] kernel=rbf, gamma=0.03, C=10 ....................................\n",
      "[CV] ..................... kernel=rbf, gamma=0.03, C=10, total=   0.0s\n",
      "[CV] kernel=rbf, gamma=0.03, C=10 ....................................\n",
      "[CV] ..................... kernel=rbf, gamma=0.03, C=10, total=   0.0s\n",
      "[CV] kernel=rbf, gamma=3.0, C=1 ......................................\n",
      "[CV] ....................... kernel=rbf, gamma=3.0, C=1, total=   0.0s\n",
      "[CV] kernel=rbf, gamma=3.0, C=1 ......................................\n",
      "[CV] ....................... kernel=rbf, gamma=3.0, C=1, total=   0.0s\n",
      "[CV] kernel=rbf, gamma=3.0, C=1 ......................................\n",
      "[CV] ....................... kernel=rbf, gamma=3.0, C=1, total=   0.0s\n",
      "[CV] kernel=rbf, gamma=3.0, C=1 ......................................\n",
      "[CV] ....................... kernel=rbf, gamma=3.0, C=1, total=   0.0s\n",
      "[CV] kernel=rbf, gamma=3.0, C=1 ......................................\n",
      "[CV] ....................... kernel=rbf, gamma=3.0, C=1, total=   0.0s\n",
      "[CV] kernel=rbf, gamma=3.0, C=1 ......................................\n",
      "[CV] ....................... kernel=rbf, gamma=3.0, C=1, total=   0.0s\n",
      "[CV] kernel=rbf, gamma=3.0, C=1 ......................................\n",
      "[CV] ....................... kernel=rbf, gamma=3.0, C=1, total=   0.0s\n",
      "[CV] kernel=rbf, gamma=3.0, C=1 ......................................\n",
      "[CV] ....................... kernel=rbf, gamma=3.0, C=1, total=   0.0s\n",
      "[CV] kernel=rbf, gamma=3.0, C=1 ......................................\n",
      "[CV] ....................... kernel=rbf, gamma=3.0, C=1, total=   0.0s\n",
      "[CV] kernel=rbf, gamma=3.0, C=1 ......................................\n",
      "[CV] ....................... kernel=rbf, gamma=3.0, C=1, total=   0.0s\n",
      "[CV] kernel=linear, gamma=3.0, C=10 ..................................\n",
      "[CV] ................... kernel=linear, gamma=3.0, C=10, total=   0.0s\n",
      "[CV] kernel=linear, gamma=3.0, C=10 ..................................\n",
      "[CV] ................... kernel=linear, gamma=3.0, C=10, total=   0.0s\n",
      "[CV] kernel=linear, gamma=3.0, C=10 ..................................\n",
      "[CV] ................... kernel=linear, gamma=3.0, C=10, total=   0.0s\n",
      "[CV] kernel=linear, gamma=3.0, C=10 ..................................\n",
      "[CV] ................... kernel=linear, gamma=3.0, C=10, total=   0.0s\n",
      "[CV] kernel=linear, gamma=3.0, C=10 ..................................\n",
      "[CV] ................... kernel=linear, gamma=3.0, C=10, total=   0.0s\n",
      "[CV] kernel=linear, gamma=3.0, C=10 ..................................\n",
      "[CV] ................... kernel=linear, gamma=3.0, C=10, total=   0.0s\n",
      "[CV] kernel=linear, gamma=3.0, C=10 ..................................\n",
      "[CV] ................... kernel=linear, gamma=3.0, C=10, total=   0.0s\n",
      "[CV] kernel=linear, gamma=3.0, C=10 ..................................\n",
      "[CV] ................... kernel=linear, gamma=3.0, C=10, total=   0.0s\n",
      "[CV] kernel=linear, gamma=3.0, C=10 ..................................\n",
      "[CV] ................... kernel=linear, gamma=3.0, C=10, total=   0.0s\n",
      "[CV] kernel=linear, gamma=3.0, C=10 ..................................\n",
      "[CV] ................... kernel=linear, gamma=3.0, C=10, total=   0.0s\n",
      "[CV] kernel=linear, gamma=1.0, C=100 .................................\n",
      "[CV] .................. kernel=linear, gamma=1.0, C=100, total=   0.4s\n",
      "[CV] kernel=linear, gamma=1.0, C=100 .................................\n",
      "[CV] .................. kernel=linear, gamma=1.0, C=100, total=   0.4s\n",
      "[CV] kernel=linear, gamma=1.0, C=100 .................................\n",
      "[CV] .................. kernel=linear, gamma=1.0, C=100, total=   0.3s\n",
      "[CV] kernel=linear, gamma=1.0, C=100 .................................\n",
      "[CV] .................. kernel=linear, gamma=1.0, C=100, total=   0.5s\n",
      "[CV] kernel=linear, gamma=1.0, C=100 .................................\n",
      "[CV] .................. kernel=linear, gamma=1.0, C=100, total=   0.7s\n",
      "[CV] kernel=linear, gamma=1.0, C=100 .................................\n",
      "[CV] .................. kernel=linear, gamma=1.0, C=100, total=   0.3s\n",
      "[CV] kernel=linear, gamma=1.0, C=100 .................................\n",
      "[CV] .................. kernel=linear, gamma=1.0, C=100, total=   0.5s\n",
      "[CV] kernel=linear, gamma=1.0, C=100 .................................\n",
      "[CV] .................. kernel=linear, gamma=1.0, C=100, total=   0.3s\n",
      "[CV] kernel=linear, gamma=1.0, C=100 .................................\n",
      "[CV] .................. kernel=linear, gamma=1.0, C=100, total=   0.5s\n",
      "[CV] kernel=linear, gamma=1.0, C=100 .................................\n",
      "[CV] .................. kernel=linear, gamma=1.0, C=100, total=   0.5s\n",
      "[CV] kernel=linear, gamma=0.001, C=1 .................................\n",
      "[CV] .................. kernel=linear, gamma=0.001, C=1, total=   0.0s\n",
      "[CV] kernel=linear, gamma=0.001, C=1 .................................\n",
      "[CV] .................. kernel=linear, gamma=0.001, C=1, total=   0.0s\n",
      "[CV] kernel=linear, gamma=0.001, C=1 .................................\n",
      "[CV] .................. kernel=linear, gamma=0.001, C=1, total=   0.0s\n",
      "[CV] kernel=linear, gamma=0.001, C=1 .................................\n",
      "[CV] .................. kernel=linear, gamma=0.001, C=1, total=   0.0s\n",
      "[CV] kernel=linear, gamma=0.001, C=1 .................................\n",
      "[CV] .................. kernel=linear, gamma=0.001, C=1, total=   0.0s\n",
      "[CV] kernel=linear, gamma=0.001, C=1 .................................\n",
      "[CV] .................. kernel=linear, gamma=0.001, C=1, total=   0.0s\n",
      "[CV] kernel=linear, gamma=0.001, C=1 .................................\n",
      "[CV] .................. kernel=linear, gamma=0.001, C=1, total=   0.0s\n",
      "[CV] kernel=linear, gamma=0.001, C=1 .................................\n",
      "[CV] .................. kernel=linear, gamma=0.001, C=1, total=   0.0s\n",
      "[CV] kernel=linear, gamma=0.001, C=1 .................................\n",
      "[CV] .................. kernel=linear, gamma=0.001, C=1, total=   0.0s\n",
      "[CV] kernel=linear, gamma=0.001, C=1 .................................\n",
      "[CV] .................. kernel=linear, gamma=0.001, C=1, total=   0.0s\n",
      "[CV] kernel=rbf, gamma=0.001, C=10 ...................................\n",
      "[CV] .................... kernel=rbf, gamma=0.001, C=10, total=   0.0s\n",
      "[CV] kernel=rbf, gamma=0.001, C=10 ...................................\n",
      "[CV] .................... kernel=rbf, gamma=0.001, C=10, total=   0.0s\n",
      "[CV] kernel=rbf, gamma=0.001, C=10 ...................................\n",
      "[CV] .................... kernel=rbf, gamma=0.001, C=10, total=   0.0s\n",
      "[CV] kernel=rbf, gamma=0.001, C=10 ...................................\n",
      "[CV] .................... kernel=rbf, gamma=0.001, C=10, total=   0.0s\n",
      "[CV] kernel=rbf, gamma=0.001, C=10 ...................................\n",
      "[CV] .................... kernel=rbf, gamma=0.001, C=10, total=   0.0s\n",
      "[CV] kernel=rbf, gamma=0.001, C=10 ...................................\n",
      "[CV] .................... kernel=rbf, gamma=0.001, C=10, total=   0.0s\n",
      "[CV] kernel=rbf, gamma=0.001, C=10 ...................................\n",
      "[CV] .................... kernel=rbf, gamma=0.001, C=10, total=   0.0s\n",
      "[CV] kernel=rbf, gamma=0.001, C=10 ...................................\n",
      "[CV] .................... kernel=rbf, gamma=0.001, C=10, total=   0.0s\n",
      "[CV] kernel=rbf, gamma=0.001, C=10 ...................................\n",
      "[CV] .................... kernel=rbf, gamma=0.001, C=10, total=   0.0s\n",
      "[CV] kernel=rbf, gamma=0.001, C=10 ...................................\n",
      "[CV] .................... kernel=rbf, gamma=0.001, C=10, total=   0.0s\n",
      "[CV] kernel=rbf, gamma=0.1, C=100 ....................................\n",
      "[CV] ..................... kernel=rbf, gamma=0.1, C=100, total=   0.0s\n",
      "[CV] kernel=rbf, gamma=0.1, C=100 ....................................\n",
      "[CV] ..................... kernel=rbf, gamma=0.1, C=100, total=   0.0s\n",
      "[CV] kernel=rbf, gamma=0.1, C=100 ....................................\n",
      "[CV] ..................... kernel=rbf, gamma=0.1, C=100, total=   0.0s\n",
      "[CV] kernel=rbf, gamma=0.1, C=100 ....................................\n",
      "[CV] ..................... kernel=rbf, gamma=0.1, C=100, total=   0.0s\n",
      "[CV] kernel=rbf, gamma=0.1, C=100 ....................................\n",
      "[CV] ..................... kernel=rbf, gamma=0.1, C=100, total=   0.0s\n",
      "[CV] kernel=rbf, gamma=0.1, C=100 ....................................\n",
      "[CV] ..................... kernel=rbf, gamma=0.1, C=100, total=   0.0s\n",
      "[CV] kernel=rbf, gamma=0.1, C=100 ....................................\n",
      "[CV] ..................... kernel=rbf, gamma=0.1, C=100, total=   0.0s\n",
      "[CV] kernel=rbf, gamma=0.1, C=100 ....................................\n",
      "[CV] ..................... kernel=rbf, gamma=0.1, C=100, total=   0.0s\n",
      "[CV] kernel=rbf, gamma=0.1, C=100 ....................................\n"
     ]
    },
    {
     "name": "stdout",
     "output_type": "stream",
     "text": [
      "[CV] ..................... kernel=rbf, gamma=0.1, C=100, total=   0.0s\n",
      "[CV] kernel=rbf, gamma=0.1, C=100 ....................................\n",
      "[CV] ..................... kernel=rbf, gamma=0.1, C=100, total=   0.0s\n",
      "[CV] kernel=rbf, gamma=3.0, C=100 ....................................\n",
      "[CV] ..................... kernel=rbf, gamma=3.0, C=100, total=   0.0s\n",
      "[CV] kernel=rbf, gamma=3.0, C=100 ....................................\n",
      "[CV] ..................... kernel=rbf, gamma=3.0, C=100, total=   0.0s\n",
      "[CV] kernel=rbf, gamma=3.0, C=100 ....................................\n",
      "[CV] ..................... kernel=rbf, gamma=3.0, C=100, total=   0.0s\n",
      "[CV] kernel=rbf, gamma=3.0, C=100 ....................................\n",
      "[CV] ..................... kernel=rbf, gamma=3.0, C=100, total=   0.0s\n",
      "[CV] kernel=rbf, gamma=3.0, C=100 ....................................\n",
      "[CV] ..................... kernel=rbf, gamma=3.0, C=100, total=   0.0s\n",
      "[CV] kernel=rbf, gamma=3.0, C=100 ....................................\n",
      "[CV] ..................... kernel=rbf, gamma=3.0, C=100, total=   0.0s\n",
      "[CV] kernel=rbf, gamma=3.0, C=100 ....................................\n",
      "[CV] ..................... kernel=rbf, gamma=3.0, C=100, total=   0.0s\n",
      "[CV] kernel=rbf, gamma=3.0, C=100 ....................................\n",
      "[CV] ..................... kernel=rbf, gamma=3.0, C=100, total=   0.0s\n",
      "[CV] kernel=rbf, gamma=3.0, C=100 ....................................\n",
      "[CV] ..................... kernel=rbf, gamma=3.0, C=100, total=   0.0s\n",
      "[CV] kernel=rbf, gamma=3.0, C=100 ....................................\n",
      "[CV] ..................... kernel=rbf, gamma=3.0, C=100, total=   0.0s\n"
     ]
    },
    {
     "name": "stderr",
     "output_type": "stream",
     "text": [
      "[Parallel(n_jobs=1)]: Done 200 out of 200 | elapsed:   23.1s finished\n"
     ]
    },
    {
     "data": {
      "text/plain": [
       "RandomizedSearchCV(cv=10, error_score='raise',\n",
       "          estimator=SVC(C=1.0, cache_size=200, class_weight=None, coef0=0.0,\n",
       "  decision_function_shape='ovr', degree=3, gamma='auto', kernel='rbf',\n",
       "  max_iter=-1, probability=False, random_state=None, shrinking=True,\n",
       "  tol=0.001, verbose=False),\n",
       "          fit_params=None, iid=True, n_iter=20, n_jobs=1,\n",
       "          param_distributions={'gamma': [0.001, 0.1, 0.01, 0.03, 1.0, 3.0], 'C': (1, 10, 100, 100), 'kernel': ['linear', 'rbf']},\n",
       "          pre_dispatch='2*n_jobs', random_state=21, refit=True,\n",
       "          return_train_score='warn', scoring=None, verbose=2)"
      ]
     },
     "execution_count": 50,
     "metadata": {},
     "output_type": "execute_result"
    }
   ],
   "source": [
    "from sklearn.svm import SVC\n",
    "from sklearn.model_selection import RandomizedSearchCV\n",
    "from scipy.stats import reciprocal, uniform\n",
    "\n",
    "params_dist = {\"gamma\": [0.001,0.1,0.01,0.03,1.0,3.0], \"C\": (1,10,100,100),\n",
    "              \"kernel\": ['linear','rbf']}\n",
    "svm_clf = SVC()\n",
    "rnd_search = RandomizedSearchCV(svm_clf, params_dist, n_iter=20,verbose=2,random_state=21,cv=10)\n",
    "rnd_search.fit(train_set_scaled,y_train)\n",
    "#svm_clf.fit(train_set_scaled,y_train)"
   ]
  },
  {
   "cell_type": "code",
   "execution_count": 51,
   "metadata": {},
   "outputs": [
    {
     "data": {
      "text/plain": [
       "' numpy as np\\nfrom sklearn.model_selection import train_test_split\\nfrom sklearn.metrics import accuracy_score\\nfrom sklearn.ensemble import GradientBoostingRegressor\\n\\ngbrt = GradientBoostingClassifier(max_depth=2, n_estimators=120, random_state=42)\\ngbrt.fit(train_set_scaled, y_train)\\n\\nerrors = [accuracy_score(y_test, y_pred)\\n          for y_pred in gbrt.staged_predict(test_set_scaled)]\\nbst_n_estimators = np.argmin(errors)\\n\\ngbrt_best = GradientBoostingClassifier(max_depth=2,n_estimators=85, random_state=42)\\ngbrt_best.fit(train_set_scaled, y_train)\\n\\nplt.figure(figsize=(11, 4))\\n\\nplt.subplot(121)\\nplt.plot(errors, \"b.-\")\\nplt.plot([bst_n_estimators, bst_n_estimators], [0, min_error], \"k--\")\\nplt.plot([0, 120], [min_error, min_error], \"k--\")\\nplt.plot(bst_n_estimators, min_error, \"ko\")\\nplt.text(bst_n_estimators, min_error*1.2, \"Minimum\", ha=\"center\", fontsize=14)\\nplt.axis([0, 120, 0, 0.01])\\nplt.xlabel(\"Number of trees\")\\nplt.title(\"Validation error\", fontsize=14)\\n\\nplt.subplot(122)\\nplot_predictions([gbrt_best], X, y, axes=[-0.5, 0.5, -0.1, 0.8])\\nplt.title(\"Best model (%d trees)\" % bst_n_estimators, fontsize=14)\\n\\nsave_fig(\"early_stopping_gbrt_plot\")\\n\\nplt.show()\\n'"
      ]
     },
     "execution_count": 51,
     "metadata": {},
     "output_type": "execute_result"
    }
   ],
   "source": [
    "''' numpy as np\n",
    "from sklearn.model_selection import train_test_split\n",
    "from sklearn.metrics import accuracy_score\n",
    "from sklearn.ensemble import GradientBoostingRegressor\n",
    "\n",
    "gbrt = GradientBoostingClassifier(max_depth=2, n_estimators=120, random_state=42)\n",
    "gbrt.fit(train_set_scaled, y_train)\n",
    "\n",
    "errors = [accuracy_score(y_test, y_pred)\n",
    "          for y_pred in gbrt.staged_predict(test_set_scaled)]\n",
    "bst_n_estimators = np.argmin(errors)\n",
    "\n",
    "gbrt_best = GradientBoostingClassifier(max_depth=2,n_estimators=85, random_state=42)\n",
    "gbrt_best.fit(train_set_scaled, y_train)\n",
    "\n",
    "plt.figure(figsize=(11, 4))\n",
    "\n",
    "plt.subplot(121)\n",
    "plt.plot(errors, \"b.-\")\n",
    "plt.plot([bst_n_estimators, bst_n_estimators], [0, min_error], \"k--\")\n",
    "plt.plot([0, 120], [min_error, min_error], \"k--\")\n",
    "plt.plot(bst_n_estimators, min_error, \"ko\")\n",
    "plt.text(bst_n_estimators, min_error*1.2, \"Minimum\", ha=\"center\", fontsize=14)\n",
    "plt.axis([0, 120, 0, 0.01])\n",
    "plt.xlabel(\"Number of trees\")\n",
    "plt.title(\"Validation error\", fontsize=14)\n",
    "\n",
    "plt.subplot(122)\n",
    "plot_predictions([gbrt_best], X, y, axes=[-0.5, 0.5, -0.1, 0.8])\n",
    "plt.title(\"Best model (%d trees)\" % bst_n_estimators, fontsize=14)\n",
    "\n",
    "save_fig(\"early_stopping_gbrt_plot\")\n",
    "\n",
    "plt.show()\n",
    "'''"
   ]
  },
  {
   "cell_type": "code",
   "execution_count": 52,
   "metadata": {},
   "outputs": [
    {
     "data": {
      "text/plain": [
       "0.6666666666666666"
      ]
     },
     "execution_count": 52,
     "metadata": {},
     "output_type": "execute_result"
    }
   ],
   "source": [
    "from sklearn.ensemble import AdaBoostClassifier\n",
    "from sklearn.tree import DecisionTreeClassifier\n",
    "\n",
    "ada_clf = AdaBoostClassifier(\n",
    "    DecisionTreeClassifier(max_depth=1), n_estimators=200,\n",
    "    algorithm=\"SAMME.R\", learning_rate=0.5, random_state=42)\n",
    "ada_clf.fit(train_set_scaled, y_train)\n",
    "\n",
    "y_pred2 = ada_clf.predict(test_set_scaled)\n",
    "accuracy_score(y_test,y_pred2)"
   ]
  },
  {
   "cell_type": "code",
   "execution_count": 53,
   "metadata": {},
   "outputs": [],
   "source": [
    "from sklearn.ensemble import RandomForestClassifier, ExtraTreesClassifier\n",
    "from sklearn.svm import SVC\n",
    "from sklearn.neural_network import MLPClassifier"
   ]
  },
  {
   "cell_type": "code",
   "execution_count": 54,
   "metadata": {},
   "outputs": [],
   "source": [
    "random_forest_clf = RandomForestClassifier(random_state=42)\n",
    "extra_trees_clf = ExtraTreesClassifier(random_state=42)\n",
    "svm_clf = SVC(random_state=42)\n",
    "mlp_clf = MLPClassifier(random_state=42)"
   ]
  },
  {
   "cell_type": "code",
   "execution_count": 55,
   "metadata": {},
   "outputs": [
    {
     "name": "stdout",
     "output_type": "stream",
     "text": [
      "Training the RandomForestClassifier(bootstrap=True, class_weight=None, criterion='gini',\n",
      "            max_depth=None, max_features='auto', max_leaf_nodes=None,\n",
      "            min_impurity_decrease=0.0, min_impurity_split=None,\n",
      "            min_samples_leaf=1, min_samples_split=2,\n",
      "            min_weight_fraction_leaf=0.0, n_estimators=10, n_jobs=1,\n",
      "            oob_score=False, random_state=42, verbose=0, warm_start=False)\n",
      "Training the ExtraTreesClassifier(bootstrap=False, class_weight=None, criterion='gini',\n",
      "           max_depth=None, max_features='auto', max_leaf_nodes=None,\n",
      "           min_impurity_decrease=0.0, min_impurity_split=None,\n",
      "           min_samples_leaf=1, min_samples_split=2,\n",
      "           min_weight_fraction_leaf=0.0, n_estimators=10, n_jobs=1,\n",
      "           oob_score=False, random_state=42, verbose=0, warm_start=False)\n",
      "Training the SVC(C=1.0, cache_size=200, class_weight=None, coef0=0.0,\n",
      "  decision_function_shape='ovr', degree=3, gamma='auto', kernel='rbf',\n",
      "  max_iter=-1, probability=False, random_state=42, shrinking=True,\n",
      "  tol=0.001, verbose=False)\n",
      "Training the MLPClassifier(activation='relu', alpha=0.0001, batch_size='auto', beta_1=0.9,\n",
      "       beta_2=0.999, early_stopping=False, epsilon=1e-08,\n",
      "       hidden_layer_sizes=(100,), learning_rate='constant',\n",
      "       learning_rate_init=0.001, max_iter=200, momentum=0.9,\n",
      "       nesterovs_momentum=True, power_t=0.5, random_state=42, shuffle=True,\n",
      "       solver='adam', tol=0.0001, validation_fraction=0.1, verbose=False,\n",
      "       warm_start=False)\n"
     ]
    }
   ],
   "source": [
    "estimators = [random_forest_clf, extra_trees_clf, svm_clf, mlp_clf]\n",
    "for estimator in estimators:\n",
    "    print(\"Training the\", estimator)\n",
    "    estimator.fit(train_set_scaled, y_train)"
   ]
  },
  {
   "cell_type": "code",
   "execution_count": 56,
   "metadata": {},
   "outputs": [
    {
     "data": {
      "text/plain": [
       "[0.6805555555555556,\n",
       " 0.6527777777777778,\n",
       " 0.6944444444444444,\n",
       " 0.7291666666666666]"
      ]
     },
     "execution_count": 56,
     "metadata": {},
     "output_type": "execute_result"
    }
   ],
   "source": [
    "[estimator.score(test_set_scaled, y_test) for estimator in estimators]"
   ]
  },
  {
   "cell_type": "code",
   "execution_count": 57,
   "metadata": {},
   "outputs": [
    {
     "data": {
      "text/plain": [
       "VotingClassifier(estimators=[('random_forest_clf', RandomForestClassifier(bootstrap=True, class_weight=None, criterion='gini',\n",
       "            max_depth=None, max_features='auto', max_leaf_nodes=None,\n",
       "            min_impurity_decrease=0.0, min_impurity_split=None,\n",
       "            min_samples_leaf=1, min_samples_split=2,\n",
       "   ...       solver='adam', tol=0.0001, validation_fraction=0.1, verbose=False,\n",
       "       warm_start=False))],\n",
       "         flatten_transform=None, n_jobs=1, voting='hard', weights=None)"
      ]
     },
     "execution_count": 57,
     "metadata": {},
     "output_type": "execute_result"
    }
   ],
   "source": [
    "from sklearn.ensemble import VotingClassifier\n",
    "\n",
    "named_estimators = [\n",
    "    (\"random_forest_clf\", random_forest_clf),\n",
    "    (\"extra_trees_clf\", extra_trees_clf),\n",
    "    (\"svm_clf\", svm_clf),\n",
    "    (\"mlp_clf\", mlp_clf),\n",
    "]\n",
    "\n",
    "voting_clf = VotingClassifier(named_estimators)\n",
    "voting_clf.fit(train_set_scaled, y_train)"
   ]
  },
  {
   "cell_type": "code",
   "execution_count": 58,
   "metadata": {},
   "outputs": [
    {
     "name": "stderr",
     "output_type": "stream",
     "text": [
      "C:\\Users\\oluda\\Anaconda3\\lib\\site-packages\\sklearn\\preprocessing\\label.py:151: DeprecationWarning: The truth value of an empty array is ambiguous. Returning False, but in future this will result in an error. Use `array.size > 0` to check that an array is not empty.\n",
      "  if diff:\n"
     ]
    },
    {
     "data": {
      "text/plain": [
       "0.7048611111111112"
      ]
     },
     "execution_count": 58,
     "metadata": {},
     "output_type": "execute_result"
    }
   ],
   "source": [
    "voting_clf.score(test_set_scaled, y_test)"
   ]
  },
  {
   "cell_type": "code",
   "execution_count": 59,
   "metadata": {},
   "outputs": [
    {
     "data": {
      "text/plain": [
       "[0.6805555555555556,\n",
       " 0.6527777777777778,\n",
       " 0.6944444444444444,\n",
       " 0.7291666666666666]"
      ]
     },
     "execution_count": 59,
     "metadata": {},
     "output_type": "execute_result"
    }
   ],
   "source": [
    "[estimator.score(test_set_scaled, y_test) for estimator in voting_clf.estimators_]"
   ]
  },
  {
   "cell_type": "code",
   "execution_count": 62,
   "metadata": {},
   "outputs": [
    {
     "data": {
      "text/plain": [
       "VotingClassifier(estimators=[('random_forest_clf', RandomForestClassifier(bootstrap=True, class_weight=None, criterion='gini',\n",
       "            max_depth=None, max_features='auto', max_leaf_nodes=None,\n",
       "            min_impurity_decrease=0.0, min_impurity_split=None,\n",
       "            min_samples_leaf=1, min_samples_split=2,\n",
       "   ...       solver='adam', tol=0.0001, validation_fraction=0.1, verbose=False,\n",
       "       warm_start=False))],\n",
       "         flatten_transform=None, n_jobs=1, voting='hard', weights=None)"
      ]
     },
     "execution_count": 62,
     "metadata": {},
     "output_type": "execute_result"
    }
   ],
   "source": [
    "voting_clf.set_params(extra_trees_clf=None)"
   ]
  },
  {
   "cell_type": "code",
   "execution_count": 63,
   "metadata": {},
   "outputs": [
    {
     "data": {
      "text/plain": [
       "[RandomForestClassifier(bootstrap=True, class_weight=None, criterion='gini',\n",
       "             max_depth=None, max_features='auto', max_leaf_nodes=None,\n",
       "             min_impurity_decrease=0.0, min_impurity_split=None,\n",
       "             min_samples_leaf=1, min_samples_split=2,\n",
       "             min_weight_fraction_leaf=0.0, n_estimators=10, n_jobs=1,\n",
       "             oob_score=False, random_state=42, verbose=0, warm_start=False),\n",
       " ExtraTreesClassifier(bootstrap=False, class_weight=None, criterion='gini',\n",
       "            max_depth=None, max_features='auto', max_leaf_nodes=None,\n",
       "            min_impurity_decrease=0.0, min_impurity_split=None,\n",
       "            min_samples_leaf=1, min_samples_split=2,\n",
       "            min_weight_fraction_leaf=0.0, n_estimators=10, n_jobs=1,\n",
       "            oob_score=False, random_state=42, verbose=0, warm_start=False),\n",
       " SVC(C=1.0, cache_size=200, class_weight=None, coef0=0.0,\n",
       "   decision_function_shape='ovr', degree=3, gamma='auto', kernel='rbf',\n",
       "   max_iter=-1, probability=False, random_state=42, shrinking=True,\n",
       "   tol=0.001, verbose=False),\n",
       " MLPClassifier(activation='relu', alpha=0.0001, batch_size='auto', beta_1=0.9,\n",
       "        beta_2=0.999, early_stopping=False, epsilon=1e-08,\n",
       "        hidden_layer_sizes=(100,), learning_rate='constant',\n",
       "        learning_rate_init=0.001, max_iter=200, momentum=0.9,\n",
       "        nesterovs_momentum=True, power_t=0.5, random_state=42, shuffle=True,\n",
       "        solver='adam', tol=0.0001, validation_fraction=0.1, verbose=False,\n",
       "        warm_start=False)]"
      ]
     },
     "execution_count": 63,
     "metadata": {},
     "output_type": "execute_result"
    }
   ],
   "source": [
    "voting_clf.estimators_"
   ]
  },
  {
   "cell_type": "code",
   "execution_count": 66,
   "metadata": {},
   "outputs": [],
   "source": [
    "voting_clf.voting = 'hard'"
   ]
  },
  {
   "cell_type": "code",
   "execution_count": 67,
   "metadata": {},
   "outputs": [
    {
     "name": "stderr",
     "output_type": "stream",
     "text": [
      "C:\\Users\\oluda\\Anaconda3\\lib\\site-packages\\sklearn\\preprocessing\\label.py:151: DeprecationWarning: The truth value of an empty array is ambiguous. Returning False, but in future this will result in an error. Use `array.size > 0` to check that an array is not empty.\n",
      "  if diff:\n"
     ]
    },
    {
     "data": {
      "text/plain": [
       "0.7048611111111112"
      ]
     },
     "execution_count": 67,
     "metadata": {},
     "output_type": "execute_result"
    }
   ],
   "source": [
    "voting_clf.score(test_set_scaled, y_test)"
   ]
  },
  {
   "cell_type": "code",
   "execution_count": 69,
   "metadata": {},
   "outputs": [
    {
     "data": {
      "text/plain": [
       "[0.6805555555555556,\n",
       " 0.6527777777777778,\n",
       " 0.6944444444444444,\n",
       " 0.7291666666666666]"
      ]
     },
     "execution_count": 69,
     "metadata": {},
     "output_type": "execute_result"
    }
   ],
   "source": [
    "[estimator.score(test_set_scaled, y_test) for estimator in voting_clf.estimators_]"
   ]
  },
  {
   "cell_type": "code",
   "execution_count": null,
   "metadata": {},
   "outputs": [],
   "source": []
  },
  {
   "cell_type": "code",
   "execution_count": 70,
   "metadata": {},
   "outputs": [
    {
     "data": {
      "text/plain": [
       "SVC(C=100, cache_size=200, class_weight=None, coef0=0.0,\n",
       "  decision_function_shape='ovr', degree=3, gamma=0.01, kernel='rbf',\n",
       "  max_iter=-1, probability=False, random_state=None, shrinking=True,\n",
       "  tol=0.001, verbose=False)"
      ]
     },
     "execution_count": 70,
     "metadata": {},
     "output_type": "execute_result"
    }
   ],
   "source": [
    "rnd_search.best_estimator_"
   ]
  },
  {
   "cell_type": "code",
   "execution_count": 71,
   "metadata": {},
   "outputs": [
    {
     "data": {
      "text/plain": [
       "0.7569444444444444"
      ]
     },
     "execution_count": 71,
     "metadata": {},
     "output_type": "execute_result"
    }
   ],
   "source": [
    "pred = rnd_search.best_estimator_.predict(test_set_scaled)\n",
    "from sklearn.metrics import accuracy_score\n",
    "accuracy_score(y_test,pred)"
   ]
  },
  {
   "cell_type": "code",
   "execution_count": 72,
   "metadata": {},
   "outputs": [],
   "source": [
    "y_pred = svm_clf.predict(test_set_scaled)"
   ]
  },
  {
   "cell_type": "code",
   "execution_count": 73,
   "metadata": {},
   "outputs": [
    {
     "data": {
      "text/plain": [
       "0.6944444444444444"
      ]
     },
     "execution_count": 73,
     "metadata": {},
     "output_type": "execute_result"
    }
   ],
   "source": [
    "from sklearn.metrics import accuracy_score\n",
    "accuracy_score(y_test,y_pred)"
   ]
  },
  {
   "cell_type": "code",
   "execution_count": 74,
   "metadata": {},
   "outputs": [],
   "source": [
    "#Voting Classifier method\n",
    "from sklearn.linear_model import LogisticRegression\n",
    "from sklearn.ensemble import RandomForestClassifier, VotingClassifier\n",
    "from sklearn.svm import SVC\n",
    "\n",
    "svm_clf = SVC(probability=True)\n",
    "tree_clf = RandomForestClassifier(random_state=42)\n",
    "logic_clf = LogisticRegression(random_state=42)\n",
    "\n",
    "voting_clf_hard = VotingClassifier(estimators=[('lr', logic_clf), \n",
    "                                          ('rf', tree_clf),\n",
    "                                         ('sf', svm_clf)],\n",
    "                                              voting = 'hard')\n",
    "\n",
    "\n",
    "voting_clf_soft = VotingClassifier(estimators=[('lr', logic_clf), \n",
    "                                          ('rf', tree_clf),\n",
    "                                         ('sf', svm_clf)],\n",
    "                                              voting = 'soft')"
   ]
  },
  {
   "cell_type": "code",
   "execution_count": 75,
   "metadata": {},
   "outputs": [
    {
     "name": "stdout",
     "output_type": "stream",
     "text": [
      "0.71875\n"
     ]
    },
    {
     "name": "stderr",
     "output_type": "stream",
     "text": [
      "C:\\Users\\oluda\\Anaconda3\\lib\\site-packages\\sklearn\\preprocessing\\label.py:151: DeprecationWarning: The truth value of an empty array is ambiguous. Returning False, but in future this will result in an error. Use `array.size > 0` to check that an array is not empty.\n",
      "  if diff:\n"
     ]
    }
   ],
   "source": [
    "voting_clf_hard.fit(train_set_scaled,y_train)\n",
    "y_pred1 = voting_clf_hard.predict(test_set_scaled)\n",
    "print(accuracy_score(y_test,y_pred1))"
   ]
  },
  {
   "cell_type": "code",
   "execution_count": 76,
   "metadata": {},
   "outputs": [
    {
     "name": "stdout",
     "output_type": "stream",
     "text": [
      "0.7326388888888888\n"
     ]
    },
    {
     "name": "stderr",
     "output_type": "stream",
     "text": [
      "C:\\Users\\oluda\\Anaconda3\\lib\\site-packages\\sklearn\\preprocessing\\label.py:151: DeprecationWarning: The truth value of an empty array is ambiguous. Returning False, but in future this will result in an error. Use `array.size > 0` to check that an array is not empty.\n",
      "  if diff:\n"
     ]
    }
   ],
   "source": [
    "voting_clf_soft.fit(train_set_scaled,y_train)\n",
    "y_pred1 = voting_clf_soft.predict(test_set_scaled)\n",
    "print(accuracy_score(y_test,y_pred1))"
   ]
  },
  {
   "cell_type": "code",
   "execution_count": 77,
   "metadata": {},
   "outputs": [
    {
     "name": "stdout",
     "output_type": "stream",
     "text": [
      "Fitting 10 folds for each of 6 candidates, totalling 60 fits\n"
     ]
    },
    {
     "name": "stderr",
     "output_type": "stream",
     "text": [
      "[Parallel(n_jobs=-1)]: Done  16 tasks      | elapsed:    3.1s\n",
      "[Parallel(n_jobs=-1)]: Done  45 out of  60 | elapsed:    3.2s remaining:    1.0s\n",
      "[Parallel(n_jobs=-1)]: Done  60 out of  60 | elapsed:    3.3s finished\n"
     ]
    },
    {
     "name": "stdout",
     "output_type": "stream",
     "text": [
      "{'n_neighbors': 4, 'weights': 'distance'}\n",
      "0.6303592120509849\n"
     ]
    },
    {
     "data": {
      "text/plain": [
       "0.6423611111111112"
      ]
     },
     "execution_count": 77,
     "metadata": {},
     "output_type": "execute_result"
    }
   ],
   "source": [
    "from sklearn.model_selection import cross_val_predict, GridSearchCV\n",
    "from sklearn.neighbors import KNeighborsClassifier\n",
    "\n",
    "param_grid = [{'weights': [\"uniform\", \"distance\"], 'n_neighbors': [3, 4, 5]}]\n",
    "\n",
    "knn_clf = KNeighborsClassifier()\n",
    "grid_search = GridSearchCV(knn_clf, param_grid, cv=10, verbose=3, n_jobs=-1)\n",
    "grid_search.fit(train_set_scaled, y_train)\n",
    "\n",
    "print(grid_search.best_params_)\n",
    "print(grid_search.best_score_)\n",
    "\n",
    "y_pred2 = grid_search.predict(test_set_scaled)\n",
    "accuracy_score(y_test,y_pred2)"
   ]
  },
  {
   "cell_type": "code",
   "execution_count": 78,
   "metadata": {},
   "outputs": [
    {
     "name": "stderr",
     "output_type": "stream",
     "text": [
      "C:\\Users\\oluda\\Anaconda3\\lib\\site-packages\\deap\\tools\\_hypervolume\\pyhv.py:33: ImportWarning: Falling back to the python version of hypervolume module. Expect this to be very slow.\n",
      "  \"module. Expect this to be very slow.\", ImportWarning)\n",
      "C:\\Users\\oluda\\Anaconda3\\lib\\importlib\\_bootstrap.py:219: ImportWarning: can't resolve package from __spec__ or __package__, falling back on __name__ and __path__\n",
      "  return f(*args, **kwds)\n",
      "                                                                                                                       \r"
     ]
    },
    {
     "name": "stdout",
     "output_type": "stream",
     "text": [
      "Generation 1 - Current best internal CV score: 0.7311298175351093\n"
     ]
    },
    {
     "name": "stderr",
     "output_type": "stream",
     "text": [
      "                                                                                                                       \r"
     ]
    },
    {
     "name": "stdout",
     "output_type": "stream",
     "text": [
      "Generation 2 - Current best internal CV score: 0.734624833704938\n"
     ]
    },
    {
     "name": "stderr",
     "output_type": "stream",
     "text": [
      "                                                                                                                       \r"
     ]
    },
    {
     "name": "stdout",
     "output_type": "stream",
     "text": [
      "Generation 3 - Current best internal CV score: 0.7462191340141194\n"
     ]
    },
    {
     "name": "stderr",
     "output_type": "stream",
     "text": [
      "                                                                                                                       \r"
     ]
    },
    {
     "name": "stdout",
     "output_type": "stream",
     "text": [
      "Generation 4 - Current best internal CV score: 0.7462191340141194\n"
     ]
    },
    {
     "name": "stderr",
     "output_type": "stream",
     "text": [
      "                                                                                                                       \r"
     ]
    },
    {
     "name": "stdout",
     "output_type": "stream",
     "text": [
      "Generation 5 - Current best internal CV score: 0.7462191340141194\n"
     ]
    },
    {
     "name": "stderr",
     "output_type": "stream",
     "text": [
      "                                                                                                                       \r"
     ]
    },
    {
     "name": "stdout",
     "output_type": "stream",
     "text": [
      "\n",
      "Best pipeline: RandomForestClassifier(LogisticRegression(input_matrix, C=25.0, dual=False, penalty=l2), bootstrap=True, criterion=entropy, max_features=0.7500000000000001, min_samples_leaf=17, min_samples_split=6, n_estimators=100)\n"
     ]
    },
    {
     "data": {
      "text/plain": [
       "TPOTClassifier(config_dict={'sklearn.naive_bayes.GaussianNB': {}, 'sklearn.naive_bayes.BernoulliNB': {'alpha': [0.001, 0.01, 0.1, 1.0, 10.0, 100.0], 'fit_prior': [True, False]}, 'sklearn.naive_bayes.MultinomialNB': {'alpha': [0.001, 0.01, 0.1, 1.0, 10.0, 100.0], 'fit_prior': [True, False]}, 'sklearn.tree.DecisionT....3 , 0.35, 0.4 , 0.45, 0.5 , 0.55,\n",
       "       0.6 , 0.65, 0.7 , 0.75, 0.8 , 0.85, 0.9 , 0.95, 1.  ])}}}},\n",
       "        crossover_rate=0.1, cv=5, disable_update_check=False,\n",
       "        early_stop=None, generations=5, max_eval_time_mins=5,\n",
       "        max_time_mins=None, memory=None, mutation_rate=0.9, n_jobs=1,\n",
       "        offspring_size=20, periodic_checkpoint_folder=None,\n",
       "        population_size=20, random_state=None, scoring=None, subsample=1.0,\n",
       "        verbosity=2, warm_start=False)"
      ]
     },
     "execution_count": 78,
     "metadata": {},
     "output_type": "execute_result"
    }
   ],
   "source": [
    "from tpot import TPOTClassifier\n",
    "tpot = TPOTClassifier(generations=5, population_size=20, verbosity=2)\n",
    "tpot.fit(train_set,y_train)"
   ]
  },
  {
   "cell_type": "code",
   "execution_count": 79,
   "metadata": {},
   "outputs": [
    {
     "name": "stdout",
     "output_type": "stream",
     "text": [
      "0.7534722222222222\n"
     ]
    }
   ],
   "source": [
    "print(tpot.score(test_set,y_test))"
   ]
  },
  {
   "cell_type": "markdown",
   "metadata": {},
   "source": []
  },
  {
   "cell_type": "markdown",
   "metadata": {},
   "source": [
    "\n",
    "\n",
    "Using PCA method"
   ]
  },
  {
   "cell_type": "code",
   "execution_count": 83,
   "metadata": {},
   "outputs": [],
   "source": [
    "from sklearn.decomposition import PCA, KernelPCA\n",
    "\n",
    "pca = PCA(n_components=0.95)\n",
    "X2D = pca.fit_transform(train_set_scaled)"
   ]
  },
  {
   "cell_type": "code",
   "execution_count": 84,
   "metadata": {},
   "outputs": [
    {
     "data": {
      "text/plain": [
       "6"
      ]
     },
     "execution_count": 84,
     "metadata": {},
     "output_type": "execute_result"
    }
   ],
   "source": [
    "pca.n_components_"
   ]
  },
  {
   "cell_type": "code",
   "execution_count": 113,
   "metadata": {},
   "outputs": [
    {
     "data": {
      "text/plain": [
       "GridSearchCV(cv=5, error_score='raise',\n",
       "       estimator=Pipeline(memory=None,\n",
       "     steps=[('kpca', KernelPCA(alpha=1.0, coef0=1, copy_X=True, degree=3, eigen_solver='auto',\n",
       "     fit_inverse_transform=False, gamma=None, kernel='linear',\n",
       "     kernel_params=None, max_iter=None, n_components=20, n_jobs=1,\n",
       "     random_state=None, remove_zero_eig=False, tol=0)), ('rnd_clf', RandomForest...stimators=10, n_jobs=1,\n",
       "            oob_score=False, random_state=42, verbose=0, warm_start=False))]),\n",
       "       fit_params=None, iid=True, n_jobs=1,\n",
       "       param_grid=[{'kpca__gamma': array([0.03   , 0.03222, 0.03444, 0.03667, 0.03889, 0.04111, 0.04333,\n",
       "       0.04556, 0.04778, 0.05   ]), 'kpca__kernel': ['rbf', 'sigmoid']}],\n",
       "       pre_dispatch='2*n_jobs', refit=True, return_train_score='warn',\n",
       "       scoring=None, verbose=0)"
      ]
     },
     "execution_count": 113,
     "metadata": {},
     "output_type": "execute_result"
    }
   ],
   "source": [
    "from sklearn.model_selection import GridSearchCV\n",
    "from sklearn.linear_model import LogisticRegression\n",
    "from sklearn.pipeline import Pipeline\n",
    "\n",
    "clf = Pipeline([\n",
    "        (\"kpca\", KernelPCA(n_components=10)),\n",
    "      \n",
    "        #(\"log_reg\", LogisticRegression()),\n",
    "        (\"rnd_clf\", RandomForestClassifier(random_state=42))\n",
    "    ])\n",
    "\n",
    "param_grid = [{\n",
    "        \"kpca__gamma\": np.linspace(0.03, 0.05, 10),\n",
    "        \"kpca__kernel\": [\"rbf\", \"sigmoid\"]\n",
    "    }]\n",
    "\n",
    "grid_search = GridSearchCV(clf, param_grid, cv=5)\n",
    "grid_search.fit(train_set_scaled, y_train)"
   ]
  },
  {
   "cell_type": "code",
   "execution_count": 114,
   "metadata": {},
   "outputs": [
    {
     "name": "stdout",
     "output_type": "stream",
     "text": [
      "{'kpca__gamma': 0.034444444444444444, 'kpca__kernel': 'sigmoid'}\n"
     ]
    }
   ],
   "source": [
    "print(grid_search.best_params_)"
   ]
  },
  {
   "cell_type": "code",
   "execution_count": 115,
   "metadata": {},
   "outputs": [],
   "source": [
    "y_pred = grid_search.best_estimator_.predict(test_set_scaled)"
   ]
  },
  {
   "cell_type": "code",
   "execution_count": 116,
   "metadata": {},
   "outputs": [
    {
     "data": {
      "text/plain": [
       "0.6215277777777778"
      ]
     },
     "execution_count": 116,
     "metadata": {},
     "output_type": "execute_result"
    }
   ],
   "source": [
    "accuracy_score(y_test,y_pred)"
   ]
  },
  {
   "cell_type": "markdown",
   "metadata": {},
   "source": []
  },
  {
   "cell_type": "markdown",
   "metadata": {
    "collapsed": true
   },
   "source": [
    "Using revised messidor with averaged microaneurysms"
   ]
  },
  {
   "cell_type": "code",
   "execution_count": 280,
   "metadata": {},
   "outputs": [],
   "source": [
    "#messidor_revised = messidor_revised.drop(\"Quality\", axis=1)\n",
    "#messidor_revised = messidor_revised.drop(\"Pre-screening\", axis=1)\n",
    "messidor_revised = messidor_revised.drop([\"Quality\", \"Pre-screening\", \"Microaneurysm_alpha0.5\",\n",
    "                                          \"Microaneurysm_alpha0.6\",\"Microaneurysm_alpha0.7\",\n",
    "                                          \"Microaneurysm _alpha0.8\",\"Microaneurysm_alpha0.9\",\n",
    "                                          \"Microaneurysm_alpha1.0\",\"AM/FM Class\"], axis=1)"
   ]
  },
  {
   "cell_type": "code",
   "execution_count": 281,
   "metadata": {},
   "outputs": [
    {
     "data": {
      "text/html": [
       "<div>\n",
       "<style scoped>\n",
       "    .dataframe tbody tr th:only-of-type {\n",
       "        vertical-align: middle;\n",
       "    }\n",
       "\n",
       "    .dataframe tbody tr th {\n",
       "        vertical-align: top;\n",
       "    }\n",
       "\n",
       "    .dataframe thead th {\n",
       "        text-align: right;\n",
       "    }\n",
       "</style>\n",
       "<table border=\"1\" class=\"dataframe\">\n",
       "  <thead>\n",
       "    <tr style=\"text-align: right;\">\n",
       "      <th></th>\n",
       "      <th>Exudates_alpha0.1</th>\n",
       "      <th>Exudates_alpha0.2</th>\n",
       "      <th>Exudates_alpha0.3</th>\n",
       "      <th>Exudates_alpha0.4</th>\n",
       "      <th>Exudates_alpha0.5</th>\n",
       "      <th>Exudates_alpha0.6</th>\n",
       "      <th>Exudates_alpha0.7</th>\n",
       "      <th>Exudates_alpha0.8</th>\n",
       "      <th>Euclidean distance</th>\n",
       "      <th>Diameter</th>\n",
       "      <th>Class Label</th>\n",
       "      <th>Microaneurysms_average</th>\n",
       "    </tr>\n",
       "  </thead>\n",
       "  <tbody>\n",
       "    <tr>\n",
       "      <th>0</th>\n",
       "      <td>49.895756</td>\n",
       "      <td>17.775994</td>\n",
       "      <td>5.270920</td>\n",
       "      <td>0.771761</td>\n",
       "      <td>0.018632</td>\n",
       "      <td>0.006864</td>\n",
       "      <td>0.003923</td>\n",
       "      <td>0.003923</td>\n",
       "      <td>0.486903</td>\n",
       "      <td>0.100025</td>\n",
       "      <td>0</td>\n",
       "      <td>20.0</td>\n",
       "    </tr>\n",
       "    <tr>\n",
       "      <th>1</th>\n",
       "      <td>57.709936</td>\n",
       "      <td>23.799994</td>\n",
       "      <td>3.325423</td>\n",
       "      <td>0.234185</td>\n",
       "      <td>0.003903</td>\n",
       "      <td>0.003903</td>\n",
       "      <td>0.003903</td>\n",
       "      <td>0.003903</td>\n",
       "      <td>0.520908</td>\n",
       "      <td>0.144414</td>\n",
       "      <td>0</td>\n",
       "      <td>20.0</td>\n",
       "    </tr>\n",
       "    <tr>\n",
       "      <th>2</th>\n",
       "      <td>55.831441</td>\n",
       "      <td>27.993933</td>\n",
       "      <td>12.687485</td>\n",
       "      <td>4.852282</td>\n",
       "      <td>1.393889</td>\n",
       "      <td>0.373252</td>\n",
       "      <td>0.041817</td>\n",
       "      <td>0.007744</td>\n",
       "      <td>0.530904</td>\n",
       "      <td>0.128548</td>\n",
       "      <td>1</td>\n",
       "      <td>53.0</td>\n",
       "    </tr>\n",
       "    <tr>\n",
       "      <th>3</th>\n",
       "      <td>40.467228</td>\n",
       "      <td>18.445954</td>\n",
       "      <td>9.118901</td>\n",
       "      <td>3.079428</td>\n",
       "      <td>0.840261</td>\n",
       "      <td>0.272434</td>\n",
       "      <td>0.007653</td>\n",
       "      <td>0.001531</td>\n",
       "      <td>0.483284</td>\n",
       "      <td>0.114790</td>\n",
       "      <td>0</td>\n",
       "      <td>48.0</td>\n",
       "    </tr>\n",
       "    <tr>\n",
       "      <th>4</th>\n",
       "      <td>18.026254</td>\n",
       "      <td>8.570709</td>\n",
       "      <td>0.410381</td>\n",
       "      <td>0.000000</td>\n",
       "      <td>0.000000</td>\n",
       "      <td>0.000000</td>\n",
       "      <td>0.000000</td>\n",
       "      <td>0.000000</td>\n",
       "      <td>0.475935</td>\n",
       "      <td>0.123572</td>\n",
       "      <td>1</td>\n",
       "      <td>40.0</td>\n",
       "    </tr>\n",
       "  </tbody>\n",
       "</table>\n",
       "</div>"
      ],
      "text/plain": [
       "   Exudates_alpha0.1  Exudates_alpha0.2  Exudates_alpha0.3  Exudates_alpha0.4  \\\n",
       "0          49.895756          17.775994           5.270920           0.771761   \n",
       "1          57.709936          23.799994           3.325423           0.234185   \n",
       "2          55.831441          27.993933          12.687485           4.852282   \n",
       "3          40.467228          18.445954           9.118901           3.079428   \n",
       "4          18.026254           8.570709           0.410381           0.000000   \n",
       "\n",
       "   Exudates_alpha0.5  Exudates_alpha0.6  Exudates_alpha0.7  Exudates_alpha0.8  \\\n",
       "0           0.018632           0.006864           0.003923           0.003923   \n",
       "1           0.003903           0.003903           0.003903           0.003903   \n",
       "2           1.393889           0.373252           0.041817           0.007744   \n",
       "3           0.840261           0.272434           0.007653           0.001531   \n",
       "4           0.000000           0.000000           0.000000           0.000000   \n",
       "\n",
       "   Euclidean distance  Diameter  Class Label  Microaneurysms_average  \n",
       "0            0.486903  0.100025            0                    20.0  \n",
       "1            0.520908  0.144414            0                    20.0  \n",
       "2            0.530904  0.128548            1                    53.0  \n",
       "3            0.483284  0.114790            0                    48.0  \n",
       "4            0.475935  0.123572            1                    40.0  "
      ]
     },
     "execution_count": 281,
     "metadata": {},
     "output_type": "execute_result"
    }
   ],
   "source": [
    "messidor_revised.head()"
   ]
  },
  {
   "cell_type": "code",
   "execution_count": 282,
   "metadata": {},
   "outputs": [],
   "source": [
    "from sklearn.model_selection import train_test_split\n",
    "train_set, test_set = train_test_split(messidor_revised, test_size=0.2, random_state=42)"
   ]
  },
  {
   "cell_type": "code",
   "execution_count": 283,
   "metadata": {},
   "outputs": [],
   "source": [
    "train_set2 = train_set.copy()\n",
    "test_set2 = test_set.copy()\n",
    "y_train = train_set[\"Class Label\"].copy()\n",
    "y_test = test_set[\"Class Label\"].copy()"
   ]
  },
  {
   "cell_type": "code",
   "execution_count": 284,
   "metadata": {},
   "outputs": [],
   "source": [
    "train_set = train_set.drop(\"Class Label\", axis=1)\n",
    "test_set = test_set.drop(\"Class Label\", axis=1)"
   ]
  },
  {
   "cell_type": "code",
   "execution_count": 285,
   "metadata": {},
   "outputs": [
    {
     "data": {
      "text/html": [
       "<div>\n",
       "<style scoped>\n",
       "    .dataframe tbody tr th:only-of-type {\n",
       "        vertical-align: middle;\n",
       "    }\n",
       "\n",
       "    .dataframe tbody tr th {\n",
       "        vertical-align: top;\n",
       "    }\n",
       "\n",
       "    .dataframe thead th {\n",
       "        text-align: right;\n",
       "    }\n",
       "</style>\n",
       "<table border=\"1\" class=\"dataframe\">\n",
       "  <thead>\n",
       "    <tr style=\"text-align: right;\">\n",
       "      <th></th>\n",
       "      <th>Exudates_alpha0.1</th>\n",
       "      <th>Exudates_alpha0.2</th>\n",
       "      <th>Exudates_alpha0.3</th>\n",
       "      <th>Exudates_alpha0.4</th>\n",
       "      <th>Exudates_alpha0.5</th>\n",
       "      <th>Exudates_alpha0.6</th>\n",
       "      <th>Exudates_alpha0.7</th>\n",
       "      <th>Exudates_alpha0.8</th>\n",
       "      <th>Euclidean distance</th>\n",
       "      <th>Diameter</th>\n",
       "      <th>Microaneurysms_average</th>\n",
       "    </tr>\n",
       "  </thead>\n",
       "  <tbody>\n",
       "    <tr>\n",
       "      <th>100</th>\n",
       "      <td>29.989661</td>\n",
       "      <td>11.839058</td>\n",
       "      <td>1.112416</td>\n",
       "      <td>0.000000</td>\n",
       "      <td>0.000000</td>\n",
       "      <td>0.000000</td>\n",
       "      <td>0.000000</td>\n",
       "      <td>0.00000</td>\n",
       "      <td>0.511867</td>\n",
       "      <td>0.139838</td>\n",
       "      <td>36.0</td>\n",
       "    </tr>\n",
       "    <tr>\n",
       "      <th>168</th>\n",
       "      <td>99.233970</td>\n",
       "      <td>8.685988</td>\n",
       "      <td>2.046803</td>\n",
       "      <td>0.027372</td>\n",
       "      <td>0.000000</td>\n",
       "      <td>0.000000</td>\n",
       "      <td>0.000000</td>\n",
       "      <td>0.00000</td>\n",
       "      <td>0.503853</td>\n",
       "      <td>0.127735</td>\n",
       "      <td>3.0</td>\n",
       "    </tr>\n",
       "    <tr>\n",
       "      <th>575</th>\n",
       "      <td>88.463524</td>\n",
       "      <td>44.140608</td>\n",
       "      <td>20.072978</td>\n",
       "      <td>8.016500</td>\n",
       "      <td>4.467041</td>\n",
       "      <td>2.521083</td>\n",
       "      <td>1.708253</td>\n",
       "      <td>0.75139</td>\n",
       "      <td>0.524378</td>\n",
       "      <td>0.096694</td>\n",
       "      <td>94.0</td>\n",
       "    </tr>\n",
       "    <tr>\n",
       "      <th>750</th>\n",
       "      <td>61.611911</td>\n",
       "      <td>21.056223</td>\n",
       "      <td>3.028357</td>\n",
       "      <td>0.409181</td>\n",
       "      <td>0.087237</td>\n",
       "      <td>0.015578</td>\n",
       "      <td>0.000000</td>\n",
       "      <td>0.00000</td>\n",
       "      <td>0.555732</td>\n",
       "      <td>0.087237</td>\n",
       "      <td>12.0</td>\n",
       "    </tr>\n",
       "    <tr>\n",
       "      <th>724</th>\n",
       "      <td>20.465109</td>\n",
       "      <td>9.740879</td>\n",
       "      <td>3.115229</td>\n",
       "      <td>0.114235</td>\n",
       "      <td>0.057118</td>\n",
       "      <td>0.032418</td>\n",
       "      <td>0.000000</td>\n",
       "      <td>0.00000</td>\n",
       "      <td>0.532226</td>\n",
       "      <td>0.100342</td>\n",
       "      <td>36.0</td>\n",
       "    </tr>\n",
       "  </tbody>\n",
       "</table>\n",
       "</div>"
      ],
      "text/plain": [
       "     Exudates_alpha0.1  Exudates_alpha0.2  Exudates_alpha0.3  \\\n",
       "100          29.989661          11.839058           1.112416   \n",
       "168          99.233970           8.685988           2.046803   \n",
       "575          88.463524          44.140608          20.072978   \n",
       "750          61.611911          21.056223           3.028357   \n",
       "724          20.465109           9.740879           3.115229   \n",
       "\n",
       "     Exudates_alpha0.4  Exudates_alpha0.5  Exudates_alpha0.6  \\\n",
       "100           0.000000           0.000000           0.000000   \n",
       "168           0.027372           0.000000           0.000000   \n",
       "575           8.016500           4.467041           2.521083   \n",
       "750           0.409181           0.087237           0.015578   \n",
       "724           0.114235           0.057118           0.032418   \n",
       "\n",
       "     Exudates_alpha0.7  Exudates_alpha0.8  Euclidean distance  Diameter  \\\n",
       "100           0.000000            0.00000            0.511867  0.139838   \n",
       "168           0.000000            0.00000            0.503853  0.127735   \n",
       "575           1.708253            0.75139            0.524378  0.096694   \n",
       "750           0.000000            0.00000            0.555732  0.087237   \n",
       "724           0.000000            0.00000            0.532226  0.100342   \n",
       "\n",
       "     Microaneurysms_average  \n",
       "100                    36.0  \n",
       "168                     3.0  \n",
       "575                    94.0  \n",
       "750                    12.0  \n",
       "724                    36.0  "
      ]
     },
     "execution_count": 285,
     "metadata": {},
     "output_type": "execute_result"
    }
   ],
   "source": [
    "train_set.head()"
   ]
  },
  {
   "cell_type": "code",
   "execution_count": 286,
   "metadata": {},
   "outputs": [],
   "source": [
    "from sklearn.preprocessing import StandardScaler\n",
    "std_scaler = StandardScaler()\n",
    "train_set_scaled = std_scaler.fit_transform(train_set)\n",
    "test_set_scaled = std_scaler.fit_transform(test_set)"
   ]
  },
  {
   "cell_type": "code",
   "execution_count": 287,
   "metadata": {},
   "outputs": [
    {
     "data": {
      "text/plain": [
       "SVC(C=10, cache_size=200, class_weight=None, coef0=0.0,\n",
       "  decision_function_shape='ovr', degree=3, gamma='auto', kernel='rbf',\n",
       "  max_iter=-1, probability=False, random_state=None, shrinking=True,\n",
       "  tol=0.001, verbose=False)"
      ]
     },
     "execution_count": 287,
     "metadata": {},
     "output_type": "execute_result"
    }
   ],
   "source": [
    "from sklearn.svm import SVC\n",
    "from sklearn.svm import LinearSVC\n",
    "svm_clf = SVC(C=10)\n",
    "svm_clf.fit(train_set_scaled,y_train)"
   ]
  },
  {
   "cell_type": "code",
   "execution_count": 288,
   "metadata": {},
   "outputs": [],
   "source": [
    "y_pred = svm_clf.predict(test_set_scaled)"
   ]
  },
  {
   "cell_type": "code",
   "execution_count": 289,
   "metadata": {},
   "outputs": [
    {
     "data": {
      "text/plain": [
       "0.6536796536796536"
      ]
     },
     "execution_count": 289,
     "metadata": {},
     "output_type": "execute_result"
    }
   ],
   "source": [
    "from sklearn.metrics import accuracy_score\n",
    "accuracy_score(y_test,y_pred)"
   ]
  },
  {
   "cell_type": "code",
   "execution_count": 290,
   "metadata": {},
   "outputs": [],
   "source": [
    "#Voting Classifier method\n",
    "from sklearn.linear_model import LogisticRegression\n",
    "from sklearn.ensemble import RandomForestClassifier, VotingClassifier\n",
    "from sklearn.svm import SVC\n",
    "\n",
    "svm_clf = SVC(10)\n",
    "tree_clf = RandomForestClassifier(random_state=42)\n",
    "logic_clf = LogisticRegression(random_state=42)\n",
    "\n",
    "voting_clf_hard = VotingClassifier(estimators=[('lr', logic_clf), \n",
    "                                          ('rf', tree_clf),\n",
    "                                         ('sf', svm_clf)],\n",
    "                                              voting = 'hard')"
   ]
  },
  {
   "cell_type": "code",
   "execution_count": 291,
   "metadata": {},
   "outputs": [
    {
     "name": "stderr",
     "output_type": "stream",
     "text": [
      "C:\\Users\\oluda\\Anaconda3\\lib\\site-packages\\sklearn\\preprocessing\\label.py:151: DeprecationWarning: The truth value of an empty array is ambiguous. Returning False, but in future this will result in an error. Use `array.size > 0` to check that an array is not empty.\n",
      "  if diff:\n"
     ]
    },
    {
     "name": "stdout",
     "output_type": "stream",
     "text": [
      "0.6623376623376623\n"
     ]
    }
   ],
   "source": [
    "voting_clf_hard.fit(train_set_scaled,y_train)\n",
    "y_pred1 = voting_clf_hard.predict(test_set_scaled)\n",
    "print(accuracy_score(y_test,y_pred1))"
   ]
  },
  {
   "cell_type": "code",
   "execution_count": 292,
   "metadata": {},
   "outputs": [
    {
     "name": "stderr",
     "output_type": "stream",
     "text": [
      "                                                                                                                       \r"
     ]
    },
    {
     "name": "stdout",
     "output_type": "stream",
     "text": [
      "Generation 1 - Current best internal CV score: 0.6696460929924936\n"
     ]
    },
    {
     "name": "stderr",
     "output_type": "stream",
     "text": [
      "                                                                                                                       \r"
     ]
    },
    {
     "name": "stdout",
     "output_type": "stream",
     "text": [
      "Generation 2 - Current best internal CV score: 0.6696460929924936\n"
     ]
    },
    {
     "name": "stderr",
     "output_type": "stream",
     "text": [
      "                                                                                                                       \r"
     ]
    },
    {
     "name": "stdout",
     "output_type": "stream",
     "text": [
      "Generation 3 - Current best internal CV score: 0.67174324003262\n"
     ]
    },
    {
     "name": "stderr",
     "output_type": "stream",
     "text": [
      "                                                                                                                       \r"
     ]
    },
    {
     "name": "stdout",
     "output_type": "stream",
     "text": [
      "Generation 4 - Current best internal CV score: 0.67174324003262\n"
     ]
    },
    {
     "name": "stderr",
     "output_type": "stream",
     "text": [
      "                                                                                                                       \r"
     ]
    },
    {
     "name": "stdout",
     "output_type": "stream",
     "text": [
      "Generation 5 - Current best internal CV score: 0.67174324003262\n"
     ]
    },
    {
     "name": "stderr",
     "output_type": "stream",
     "text": [
      "                                                                                                                       \r"
     ]
    },
    {
     "name": "stdout",
     "output_type": "stream",
     "text": [
      "\n",
      "Best pipeline: ExtraTreesClassifier(input_matrix, bootstrap=True, criterion=gini, max_features=0.7500000000000001, min_samples_leaf=4, min_samples_split=20, n_estimators=100)\n"
     ]
    },
    {
     "data": {
      "text/plain": [
       "TPOTClassifier(config_dict={'sklearn.naive_bayes.GaussianNB': {}, 'sklearn.naive_bayes.BernoulliNB': {'alpha': [0.001, 0.01, 0.1, 1.0, 10.0, 100.0], 'fit_prior': [True, False]}, 'sklearn.naive_bayes.MultinomialNB': {'alpha': [0.001, 0.01, 0.1, 1.0, 10.0, 100.0], 'fit_prior': [True, False]}, 'sklearn.tree.DecisionT....3 , 0.35, 0.4 , 0.45, 0.5 , 0.55,\n",
       "       0.6 , 0.65, 0.7 , 0.75, 0.8 , 0.85, 0.9 , 0.95, 1.  ])}}}},\n",
       "        crossover_rate=0.1, cv=5, disable_update_check=False,\n",
       "        early_stop=None, generations=5, max_eval_time_mins=5,\n",
       "        max_time_mins=None, memory=None, mutation_rate=0.9, n_jobs=1,\n",
       "        offspring_size=20, periodic_checkpoint_folder=None,\n",
       "        population_size=20, random_state=None, scoring=None, subsample=1.0,\n",
       "        verbosity=2, warm_start=False)"
      ]
     },
     "execution_count": 292,
     "metadata": {},
     "output_type": "execute_result"
    }
   ],
   "source": [
    "from tpot import TPOTClassifier\n",
    "tpot = TPOTClassifier(generations=5, population_size=20, verbosity=2)\n",
    "tpot.fit(train_set,y_train)"
   ]
  },
  {
   "cell_type": "code",
   "execution_count": 293,
   "metadata": {},
   "outputs": [
    {
     "name": "stdout",
     "output_type": "stream",
     "text": [
      "0.7012987012987013\n"
     ]
    }
   ],
   "source": [
    "print(tpot.score(test_set,y_test))"
   ]
  },
  {
   "cell_type": "code",
   "execution_count": null,
   "metadata": {},
   "outputs": [],
   "source": []
  }
 ],
 "metadata": {
  "kernelspec": {
   "display_name": "Python 3",
   "language": "python",
   "name": "python3"
  },
  "language_info": {
   "codemirror_mode": {
    "name": "ipython",
    "version": 3
   },
   "file_extension": ".py",
   "mimetype": "text/x-python",
   "name": "python",
   "nbconvert_exporter": "python",
   "pygments_lexer": "ipython3",
   "version": "3.6.4"
  }
 },
 "nbformat": 4,
 "nbformat_minor": 2
}
